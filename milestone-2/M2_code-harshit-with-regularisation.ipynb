{
 "cells": [
  {
   "cell_type": "markdown",
   "metadata": {
    "collapsed": true
   },
   "source": [
    "# MILESTONE 2\n",
    "\n",
    "IMDB dataset + Siraj's Network"
   ]
  },
  {
   "cell_type": "code",
   "execution_count": 1,
   "metadata": {
    "collapsed": true
   },
   "outputs": [],
   "source": [
    "import numpy as np\n",
    "import tensorflow as tf"
   ]
  },
  {
   "cell_type": "markdown",
   "metadata": {},
   "source": [
    "## Preprocessing Dataset\n",
    "\n",
    "1. Removing punctuations\n",
    "2. Generating word_to_int map\n",
    "3. Coverting each review in ints\n",
    "4. Padding each review with 0's and generating input of length 200"
   ]
  },
  {
   "cell_type": "code",
   "execution_count": 2,
   "metadata": {
    "collapsed": true
   },
   "outputs": [],
   "source": [
    "import re\n",
    "from collections import Counter\n",
    "from nltk.corpus import stopwords\n",
    "\n",
    "def preprocess(text):\n",
    "    \n",
    "    # Replace punctuation with tokens so we can use them in our model\n",
    "    '''\n",
    "    text = text.lower()\n",
    "    text = text.replace('.', ' <PERIOD> ')\n",
    "    text = text.replace(',', ' <PERIOD> ')\n",
    "    text = text.replace('\"', ' <PERIOD> ')\n",
    "    text = text.replace(';', ' <PERIOD> ')\n",
    "    text = text.replace('!', ' <PERIOD> ')\n",
    "    text = text.replace('?', ' <PERIOD> ')\n",
    "    text = text.replace('(', ' <PERIOD> ')\n",
    "    text = text.replace(')', ' <PERIOD> ')\n",
    "    text = text.replace('--', ' <PERIOD> ')\n",
    "    text = text.replace('?', ' <PERIOD> ')\n",
    "    '''\n",
    "    text = text.replace('<br />', ' <PERIOD> ')\n",
    "    text = text.replace('\\\\', ' <PERIOD> ')\n",
    "    text = text.replace('\\n', ' <NEW_LINE> ')\n",
    "    text = text.replace(':', ' <PERIOD> ')\n",
    "    text = text.replace(' <PERIOD> ', ' ')\n",
    "    words = text.split()\n",
    "    \n",
    "    return words\n",
    "\n",
    "def removing_noise(words):\n",
    "    word_count = Counter(words)\n",
    "    #stops = set(stopwords.words(\"english\"))\n",
    "    words_new = [word for word in words if (word_count[word]>5) #and (not word in stops)\n",
    "                ]\n",
    "    return words_new\n",
    "    \n"
   ]
  },
  {
   "cell_type": "code",
   "execution_count": 3,
   "metadata": {
    "collapsed": true
   },
   "outputs": [],
   "source": [
    "import csv\n",
    "\n",
    "filename = 'data/labeledTrainData.tsv'\n",
    "review_ids = []\n",
    "reviews = []\n",
    "labels = []\n",
    "#importing dataset into lists\n",
    "wrong_temp = []\n",
    "#[92, 102, 120, 259, 404, 1028, 1094, 1184, 1229, 1234, 1343, 1503, 1790, 1861, 2212, 3430, 3771, 3870, 4106, 4407, 4866, 5053, 5218, 5221, 5514, 5553, 5646, 5853, 6086, 6499, 6582, 6746, 7021, 7023, 7194, 7331, 7454, 7473, 7553, 7837, 8119, 8264, 8407, 8433, 8971, 9076, 9204, 9402, 9490, 9552, 9562, 9632, 9716, 9748, 9787, 10107, 10230, 10233, 10414, 10477, 10500, 10702, 10892, 11048, 11055, 11371, 11375, 11513, 11744, 11944, 12071, 12159, 12188, 12243, 12341, 12558, 12594, 12808, 13087, 13159, 14111, 14755, 14860, 14993, 15094, 15260, 15352, 15360, 15656, 15871, 16214, 16274, 16492, 16539, 16613, 16622, 16870, 16949, 16990, 16992, 17071, 17254, 17371, 17450, 17463, 17603, 17709, 17712, 17749, 18024, 18221, 18226, 18681, 18784, 18896, 19063, 19609, 19714, 19889]\n",
    "\n",
    "with open(filename, 'r') as f:\n",
    "    next(f)\n",
    "    reader = csv.reader(f, delimiter='\\t')\n",
    "    row_count = 0\n",
    "    for row in reader:\n",
    "        review_ids.append(row[0])\n",
    "        labels.append([int(row[1])] )\n",
    "        reviews.append(row[2])"
   ]
  },
  {
   "cell_type": "code",
   "execution_count": 4,
   "metadata": {
    "collapsed": true
   },
   "outputs": [],
   "source": [
    "reviews_pp = []\n",
    "words = []\n",
    "\n",
    "for review in reviews:\n",
    "    review_pp = preprocess(review)\n",
    "    reviews_pp.append(review_pp)\n",
    "    words.extend(review_pp)\n",
    "    \n",
    "words = removing_noise(words)"
   ]
  },
  {
   "cell_type": "code",
   "execution_count": 5,
   "metadata": {
    "collapsed": true
   },
   "outputs": [],
   "source": [
    "#Converting word to integers and making the vocabulary\n",
    "vocab = set(words)\n",
    "vocab_size = len(vocab)\n",
    "words_count = Counter(words)\n",
    "sorted_vocab = sorted(words_count, key = words_count.get, reverse = True)\n",
    "word_to_int = {word:i for i,word in enumerate(sorted_vocab,1)}\n",
    "\n",
    "#Converting each review in the form of integers\n",
    "reviews_pp_ints = []\n",
    "for review in reviews_pp:\n",
    "    this_review_int = []\n",
    "    for word in review:\n",
    "        if word in vocab:\n",
    "            this_review_int.append(word_to_int[word])\n",
    "    reviews_pp_ints.append(this_review_int)"
   ]
  },
  {
   "cell_type": "code",
   "execution_count": 6,
   "metadata": {
    "scrolled": false
   },
   "outputs": [
    {
     "data": {
      "text/plain": [
       "412"
      ]
     },
     "execution_count": 6,
     "metadata": {},
     "output_type": "execute_result"
    }
   ],
   "source": [
    "len(reviews_pp_ints[0])"
   ]
  },
  {
   "cell_type": "code",
   "execution_count": 7,
   "metadata": {},
   "outputs": [
    {
     "data": {
      "text/plain": [
       "429"
      ]
     },
     "execution_count": 7,
     "metadata": {},
     "output_type": "execute_result"
    }
   ],
   "source": [
    "len(reviews_pp[0])"
   ]
  },
  {
   "cell_type": "code",
   "execution_count": 8,
   "metadata": {},
   "outputs": [
    {
     "data": {
      "text/plain": [
       "25000"
      ]
     },
     "execution_count": 8,
     "metadata": {},
     "output_type": "execute_result"
    }
   ],
   "source": [
    "len(reviews_pp_ints)"
   ]
  },
  {
   "cell_type": "code",
   "execution_count": 9,
   "metadata": {
    "collapsed": true
   },
   "outputs": [],
   "source": [
    "max_seq_len = 200\n",
    "features = np.zeros((len(reviews_pp_ints), max_seq_len), dtype=int)\n",
    "for i, row in enumerate(reviews_pp_ints):\n",
    "    features[i, :len(row)] = np.array(row[:max_seq_len] )"
   ]
  },
  {
   "cell_type": "code",
   "execution_count": 10,
   "metadata": {
    "collapsed": true
   },
   "outputs": [],
   "source": [
    "# 'features' is a 2d array storing all sequences"
   ]
  },
  {
   "cell_type": "markdown",
   "metadata": {},
   "source": [
    "## Train Test Validation split"
   ]
  },
  {
   "cell_type": "code",
   "execution_count": 11,
   "metadata": {
    "collapsed": true
   },
   "outputs": [],
   "source": [
    "split_frac = 0.8\n",
    "split_idx = int(len(features)*0.8)\n",
    "train_x, val_x = features[:split_idx], features[split_idx:]\n",
    "train_y, val_y = labels[:split_idx], labels[split_idx:]\n",
    "\n",
    "test_idx = int(len(val_x)*0.5)\n",
    "val_x, test_x = val_x[:test_idx], val_x[test_idx:]\n",
    "val_y, test_y = val_y[:test_idx], val_y[test_idx:]"
   ]
  },
  {
   "cell_type": "markdown",
   "metadata": {},
   "source": [
    "## Building Network"
   ]
  },
  {
   "cell_type": "code",
   "execution_count": 12,
   "metadata": {},
   "outputs": [],
   "source": [
    "input_size = 300\n",
    "embed_size = 100\n",
    "lstm_size = 256\n",
    "lstm_layers = 1\n",
    "batch_size = 500\n",
    "hidden_nodes = 10\n",
    "\n",
    "\n",
    "X = tf.placeholder(tf.int32, [None, None], name = 'inputs')\n",
    "Y = tf.placeholder(tf.float32, [None, 1], name = 'labels')\n",
    "#keep_prob = tf.placeholder(tf.float32, name='keep_prob')\n",
    "\n",
    "tf.set_random_seed(5)\n",
    "\n",
    "embedding = tf.Variable(tf.random_uniform((vocab_size+1, embed_size), -1, 1))\n",
    "embed = tf.nn.embedding_lookup(embedding, X)\n",
    "\n",
    "lstm = tf.contrib.rnn.BasicLSTMCell(lstm_size)\n",
    "#drop = tf.contrib.rnn.DropoutWrapper(lstm, output_keep_prob=keep_prob)\n",
    "\n",
    "cell = tf.contrib.rnn.MultiRNNCell([lstm]*lstm_layers)\n",
    "\n",
    "#getting an initial state of zeros\\n\",\n",
    "initial_state = cell.zero_state(batch_size, tf.float32)\n",
    "\n",
    "outputs, final_state = tf.nn.dynamic_rnn(cell, embed, initial_state = initial_state)\n",
    "\n",
    "#hidden_layer = tf.contrib.layers.fully_connected(outputs[:, -1], hidden_nodes, activation_fn=tf.nn.relu)\n",
    "predictions = tf.contrib.layers.fully_connected(outputs[:, -1],1, activation_fn=tf.sigmoid)\n",
    "#predictions,Y\\n\",\n",
    "\n",
    "#regularizers =  tf.reduce_mean(tf.nn.l2_loss(tf.trainable_variables() ))\n",
    "regularizers =sum(tf.nn.l2_loss(tf_var) for tf_var in tf.trainable_variables() if not (\"noreg\" in tf_var.name or \"Bias\" in tf_var.name))\n",
    "loss = tf.reduce_mean(tf.square(Y - predictions) )+ 0.01*regularizers\n",
    "optimizer = tf.train.AdamOptimizer(0.01).minimize(loss)"
   ]
  },
  {
   "cell_type": "code",
   "execution_count": 13,
   "metadata": {
    "collapsed": true
   },
   "outputs": [],
   "source": [
    "#Accuracy:\n",
    "correct_pred = tf.equal(tf.cast(tf.round(predictions), tf.float32), Y)\n",
    "accuracy = tf.reduce_mean(tf.cast(correct_pred, tf.float32))"
   ]
  },
  {
   "cell_type": "markdown",
   "metadata": {},
   "source": [
    "## Training"
   ]
  },
  {
   "cell_type": "code",
   "execution_count": 14,
   "metadata": {
    "collapsed": true
   },
   "outputs": [],
   "source": [
    "n_epochs = 60"
   ]
  },
  {
   "cell_type": "code",
   "execution_count": 15,
   "metadata": {
    "collapsed": true
   },
   "outputs": [],
   "source": [
    "def get_batches(x, y, batch_size=100):\n",
    "    \n",
    "    n_batches = len(x)//batch_size\n",
    "    x, y = x[:n_batches*batch_size], y[:n_batches*batch_size]\n",
    "    for ii in range(0, len(x), batch_size):\n",
    "        yield x[ii:ii+batch_size], y[ii:ii+batch_size]"
   ]
  },
  {
   "cell_type": "code",
   "execution_count": 16,
   "metadata": {},
   "outputs": [
    {
     "name": "stdout",
     "output_type": "stream",
     "text": [
      "Epoch: 0/60 Iteration: 5 Train loss: 6167.59180\n",
      "Epoch: 0/60 Iteration: 10 Train loss: 5261.15039\n",
      "Epoch: 0/60 Iteration: 15 Train loss: 4459.77881\n",
      "Epoch: 0/60 Iteration: 20 Train loss: 3758.37744\n",
      "Epoch: 0/60 Iteration: 25 Train loss: 3150.28760\n",
      "Epoch: 0/60 Iteration: 30 Train loss: 2627.18066\n",
      "Epoch: 0/60 Iteration: 35 Train loss: 2180.37549\n",
      "Epoch: 0/60 Iteration: 40 Train loss: 1801.20459\n",
      "Epoch: 1/60 Iteration: 5 Train loss: 1481.27014\n",
      "Epoch: 1/60 Iteration: 10 Train loss: 1212.75098\n",
      "Epoch: 1/60 Iteration: 15 Train loss: 988.51337\n",
      "Epoch: 1/60 Iteration: 20 Train loss: 802.14594\n",
      "Epoch: 1/60 Iteration: 25 Train loss: 647.98145\n",
      "Epoch: 1/60 Iteration: 30 Train loss: 521.04834\n",
      "Epoch: 1/60 Iteration: 35 Train loss: 417.02432\n",
      "Epoch: 1/60 Iteration: 40 Train loss: 332.17886\n",
      "Epoch: 2/60 Iteration: 5 Train loss: 263.31058\n",
      "Epoch: 2/60 Iteration: 10 Train loss: 207.68646\n",
      "Epoch: 2/60 Iteration: 15 Train loss: 162.98671\n",
      "Epoch: 2/60 Iteration: 20 Train loss: 127.25143\n",
      "Epoch: 2/60 Iteration: 25 Train loss: 98.83425\n",
      "Epoch: 2/60 Iteration: 30 Train loss: 76.35890\n",
      "Epoch: 2/60 Iteration: 35 Train loss: 58.68132\n",
      "Epoch: 2/60 Iteration: 40 Train loss: 44.85589\n",
      "Epoch: 3/60 Iteration: 5 Train loss: 34.10538\n",
      "Epoch: 3/60 Iteration: 10 Train loss: 25.79529\n",
      "Epoch: 3/60 Iteration: 15 Train loss: 19.40973\n",
      "Epoch: 3/60 Iteration: 20 Train loss: 14.53302\n",
      "Epoch: 3/60 Iteration: 25 Train loss: 10.83163\n",
      "Epoch: 3/60 Iteration: 30 Train loss: 8.04006\n",
      "Epoch: 3/60 Iteration: 35 Train loss: 5.94793\n",
      "Epoch: 3/60 Iteration: 40 Train loss: 4.39044\n",
      "Epoch: 4/60 Iteration: 5 Train loss: 3.23845\n",
      "Epoch: 4/60 Iteration: 10 Train loss: 2.39242\n",
      "Epoch: 4/60 Iteration: 15 Train loss: 1.77510\n",
      "Epoch: 4/60 Iteration: 20 Train loss: 1.32799\n",
      "Epoch: 4/60 Iteration: 25 Train loss: 1.00640\n",
      "Epoch: 4/60 Iteration: 30 Train loss: 0.77687\n",
      "Epoch: 4/60 Iteration: 35 Train loss: 0.61400\n",
      "Epoch: 4/60 Iteration: 40 Train loss: 0.49958\n",
      "Epoch: 5/60 Iteration: 5 Train loss: 0.41962\n",
      "Epoch: 5/60 Iteration: 10 Train loss: 0.36446\n",
      "Epoch: 5/60 Iteration: 15 Train loss: 0.32649\n",
      "Epoch: 5/60 Iteration: 20 Train loss: 0.30072\n",
      "Epoch: 5/60 Iteration: 25 Train loss: 0.28334\n",
      "Epoch: 5/60 Iteration: 30 Train loss: 0.27181\n",
      "Epoch: 5/60 Iteration: 35 Train loss: 0.26394\n",
      "Epoch: 5/60 Iteration: 40 Train loss: 0.25890\n",
      "Epoch: 6/60 Iteration: 5 Train loss: 0.25550\n",
      "Epoch: 6/60 Iteration: 10 Train loss: 0.25350\n",
      "Epoch: 6/60 Iteration: 15 Train loss: 0.25212\n",
      "Epoch: 6/60 Iteration: 20 Train loss: 0.25134\n",
      "Epoch: 6/60 Iteration: 25 Train loss: 0.25085\n",
      "Epoch: 6/60 Iteration: 30 Train loss: 0.25065\n",
      "Epoch: 6/60 Iteration: 35 Train loss: 0.25029\n",
      "Epoch: 6/60 Iteration: 40 Train loss: 0.25019\n",
      "Epoch: 7/60 Iteration: 5 Train loss: 0.25000\n",
      "Epoch: 7/60 Iteration: 10 Train loss: 0.25008\n",
      "Epoch: 7/60 Iteration: 15 Train loss: 0.25001\n",
      "Epoch: 7/60 Iteration: 20 Train loss: 0.25006\n",
      "Epoch: 7/60 Iteration: 25 Train loss: 0.25008\n",
      "Epoch: 7/60 Iteration: 30 Train loss: 0.25020\n",
      "Epoch: 7/60 Iteration: 35 Train loss: 0.25002\n",
      "Epoch: 7/60 Iteration: 40 Train loss: 0.25004\n",
      "Epoch: 8/60 Iteration: 5 Train loss: 0.24992\n",
      "Epoch: 8/60 Iteration: 10 Train loss: 0.25003\n",
      "Epoch: 8/60 Iteration: 15 Train loss: 0.24999\n",
      "Epoch: 8/60 Iteration: 20 Train loss: 0.25005\n",
      "Epoch: 8/60 Iteration: 25 Train loss: 0.25008\n",
      "Epoch: 8/60 Iteration: 30 Train loss: 0.25020\n",
      "Epoch: 8/60 Iteration: 35 Train loss: 0.25002\n",
      "Epoch: 8/60 Iteration: 40 Train loss: 0.25005\n",
      "Epoch: 9/60 Iteration: 5 Train loss: 0.24991\n",
      "Epoch: 9/60 Iteration: 10 Train loss: 0.25003\n",
      "Epoch: 9/60 Iteration: 15 Train loss: 0.24999\n",
      "Epoch: 9/60 Iteration: 20 Train loss: 0.25005\n",
      "Epoch: 9/60 Iteration: 25 Train loss: 0.25008\n",
      "Epoch: 9/60 Iteration: 30 Train loss: 0.25021\n",
      "Epoch: 9/60 Iteration: 35 Train loss: 0.25002\n",
      "Epoch: 9/60 Iteration: 40 Train loss: 0.25005\n",
      "Epoch: 10/60 Iteration: 5 Train loss: 0.24991\n",
      "Epoch: 10/60 Iteration: 10 Train loss: 0.25003\n",
      "Epoch: 10/60 Iteration: 15 Train loss: 0.24999\n",
      "Epoch: 10/60 Iteration: 20 Train loss: 0.25005\n",
      "Epoch: 10/60 Iteration: 25 Train loss: 0.25009\n",
      "Epoch: 10/60 Iteration: 30 Train loss: 0.25021\n",
      "Epoch: 10/60 Iteration: 35 Train loss: 0.25002\n",
      "Epoch: 10/60 Iteration: 40 Train loss: 0.25005\n",
      "Epoch: 11/60 Iteration: 5 Train loss: 0.24991\n",
      "Epoch: 11/60 Iteration: 10 Train loss: 0.25003\n",
      "Epoch: 11/60 Iteration: 15 Train loss: 0.24999\n",
      "Epoch: 11/60 Iteration: 20 Train loss: 0.25006\n",
      "Epoch: 11/60 Iteration: 25 Train loss: 0.25009\n",
      "Epoch: 11/60 Iteration: 30 Train loss: 0.25022\n",
      "Epoch: 11/60 Iteration: 35 Train loss: 0.25002\n",
      "Epoch: 11/60 Iteration: 40 Train loss: 0.25005\n",
      "Epoch: 12/60 Iteration: 5 Train loss: 0.24991\n",
      "Epoch: 12/60 Iteration: 10 Train loss: 0.25004\n",
      "Epoch: 12/60 Iteration: 15 Train loss: 0.24999\n",
      "Epoch: 12/60 Iteration: 20 Train loss: 0.25006\n",
      "Epoch: 12/60 Iteration: 25 Train loss: 0.25009\n",
      "Epoch: 12/60 Iteration: 30 Train loss: 0.25022\n",
      "Epoch: 12/60 Iteration: 35 Train loss: 0.25002\n",
      "Epoch: 12/60 Iteration: 40 Train loss: 0.25005\n",
      "Epoch: 13/60 Iteration: 5 Train loss: 0.24991\n",
      "Epoch: 13/60 Iteration: 10 Train loss: 0.25004\n",
      "Epoch: 13/60 Iteration: 15 Train loss: 0.24999\n",
      "Epoch: 13/60 Iteration: 20 Train loss: 0.25006\n",
      "Epoch: 13/60 Iteration: 25 Train loss: 0.25009\n",
      "Epoch: 13/60 Iteration: 30 Train loss: 0.25022\n",
      "Epoch: 13/60 Iteration: 35 Train loss: 0.25002\n",
      "Epoch: 13/60 Iteration: 40 Train loss: 0.25005\n",
      "Epoch: 14/60 Iteration: 5 Train loss: 0.24991\n",
      "Epoch: 14/60 Iteration: 10 Train loss: 0.25004\n",
      "Epoch: 14/60 Iteration: 15 Train loss: 0.24999\n",
      "Epoch: 14/60 Iteration: 20 Train loss: 0.25006\n",
      "Epoch: 14/60 Iteration: 25 Train loss: 0.25009\n",
      "Epoch: 14/60 Iteration: 30 Train loss: 0.25022\n",
      "Epoch: 14/60 Iteration: 35 Train loss: 0.25002\n",
      "Epoch: 14/60 Iteration: 40 Train loss: 0.25005\n",
      "Epoch: 15/60 Iteration: 5 Train loss: 0.24991\n",
      "Epoch: 15/60 Iteration: 10 Train loss: 0.25004\n",
      "Epoch: 15/60 Iteration: 15 Train loss: 0.24999\n",
      "Epoch: 15/60 Iteration: 20 Train loss: 0.25006\n",
      "Epoch: 15/60 Iteration: 25 Train loss: 0.25009\n",
      "Epoch: 15/60 Iteration: 30 Train loss: 0.25022\n",
      "Epoch: 15/60 Iteration: 35 Train loss: 0.25002\n",
      "Epoch: 15/60 Iteration: 40 Train loss: 0.25005\n",
      "Epoch: 16/60 Iteration: 5 Train loss: 0.24991\n",
      "Epoch: 16/60 Iteration: 10 Train loss: 0.25004\n",
      "Epoch: 16/60 Iteration: 15 Train loss: 0.24999\n",
      "Epoch: 16/60 Iteration: 20 Train loss: 0.25006\n",
      "Epoch: 16/60 Iteration: 25 Train loss: 0.25009\n",
      "Epoch: 16/60 Iteration: 30 Train loss: 0.25023\n",
      "Epoch: 16/60 Iteration: 35 Train loss: 0.25002\n",
      "Epoch: 16/60 Iteration: 40 Train loss: 0.25005\n",
      "Epoch: 17/60 Iteration: 5 Train loss: 0.24991\n",
      "Epoch: 17/60 Iteration: 10 Train loss: 0.25004\n",
      "Epoch: 17/60 Iteration: 15 Train loss: 0.24999\n",
      "Epoch: 17/60 Iteration: 20 Train loss: 0.25006\n",
      "Epoch: 17/60 Iteration: 25 Train loss: 0.25010\n",
      "Epoch: 17/60 Iteration: 30 Train loss: 0.25023\n",
      "Epoch: 17/60 Iteration: 35 Train loss: 0.25002\n",
      "Epoch: 17/60 Iteration: 40 Train loss: 0.25005\n",
      "Epoch: 18/60 Iteration: 5 Train loss: 0.24991\n",
      "Epoch: 18/60 Iteration: 10 Train loss: 0.25004\n",
      "Epoch: 18/60 Iteration: 15 Train loss: 0.24999\n",
      "Epoch: 18/60 Iteration: 20 Train loss: 0.25006\n",
      "Epoch: 18/60 Iteration: 25 Train loss: 0.25010\n",
      "Epoch: 18/60 Iteration: 30 Train loss: 0.25023\n",
      "Epoch: 18/60 Iteration: 35 Train loss: 0.25002\n",
      "Epoch: 18/60 Iteration: 40 Train loss: 0.25005\n",
      "Epoch: 19/60 Iteration: 5 Train loss: 0.24991\n",
      "Epoch: 19/60 Iteration: 10 Train loss: 0.25004\n",
      "Epoch: 19/60 Iteration: 15 Train loss: 0.24999\n",
      "Epoch: 19/60 Iteration: 20 Train loss: 0.25006\n",
      "Epoch: 19/60 Iteration: 25 Train loss: 0.25010\n",
      "Epoch: 19/60 Iteration: 30 Train loss: 0.25023\n",
      "Epoch: 19/60 Iteration: 35 Train loss: 0.25003\n",
      "Epoch: 19/60 Iteration: 40 Train loss: 0.25005\n",
      "Epoch: 20/60 Iteration: 5 Train loss: 0.24991\n",
      "Epoch: 20/60 Iteration: 10 Train loss: 0.25004\n",
      "Epoch: 20/60 Iteration: 15 Train loss: 0.24999\n",
      "Epoch: 20/60 Iteration: 20 Train loss: 0.25006\n",
      "Epoch: 20/60 Iteration: 25 Train loss: 0.25010\n",
      "Epoch: 20/60 Iteration: 30 Train loss: 0.25023\n",
      "Epoch: 20/60 Iteration: 35 Train loss: 0.25003\n",
      "Epoch: 20/60 Iteration: 40 Train loss: 0.25005\n",
      "Epoch: 21/60 Iteration: 5 Train loss: 0.24991\n",
      "Epoch: 21/60 Iteration: 10 Train loss: 0.25004\n",
      "Epoch: 21/60 Iteration: 15 Train loss: 0.24999\n",
      "Epoch: 21/60 Iteration: 20 Train loss: 0.25006\n",
      "Epoch: 21/60 Iteration: 25 Train loss: 0.25010\n",
      "Epoch: 21/60 Iteration: 30 Train loss: 0.25023\n",
      "Epoch: 21/60 Iteration: 35 Train loss: 0.25003\n",
      "Epoch: 21/60 Iteration: 40 Train loss: 0.25005\n"
     ]
    },
    {
     "name": "stdout",
     "output_type": "stream",
     "text": [
      "Epoch: 22/60 Iteration: 5 Train loss: 0.24991\n",
      "Epoch: 22/60 Iteration: 10 Train loss: 0.25004\n",
      "Epoch: 22/60 Iteration: 15 Train loss: 0.24999\n",
      "Epoch: 22/60 Iteration: 20 Train loss: 0.25006\n",
      "Epoch: 22/60 Iteration: 25 Train loss: 0.25010\n",
      "Epoch: 22/60 Iteration: 30 Train loss: 0.25023\n",
      "Epoch: 22/60 Iteration: 35 Train loss: 0.25003\n",
      "Epoch: 22/60 Iteration: 40 Train loss: 0.25005\n",
      "Epoch: 23/60 Iteration: 5 Train loss: 0.24991\n",
      "Epoch: 23/60 Iteration: 10 Train loss: 0.25004\n",
      "Epoch: 23/60 Iteration: 15 Train loss: 0.24999\n",
      "Epoch: 23/60 Iteration: 20 Train loss: 0.25007\n",
      "Epoch: 23/60 Iteration: 25 Train loss: 0.25010\n",
      "Epoch: 23/60 Iteration: 30 Train loss: 0.25023\n",
      "Epoch: 23/60 Iteration: 35 Train loss: 0.25003\n",
      "Epoch: 23/60 Iteration: 40 Train loss: 0.25006\n",
      "Epoch: 24/60 Iteration: 5 Train loss: 0.24991\n",
      "Epoch: 24/60 Iteration: 10 Train loss: 0.25004\n",
      "Epoch: 24/60 Iteration: 15 Train loss: 0.24999\n",
      "Epoch: 24/60 Iteration: 20 Train loss: 0.25007\n",
      "Epoch: 24/60 Iteration: 25 Train loss: 0.25010\n",
      "Epoch: 24/60 Iteration: 30 Train loss: 0.25024\n",
      "Epoch: 24/60 Iteration: 35 Train loss: 0.25003\n",
      "Epoch: 24/60 Iteration: 40 Train loss: 0.25006\n",
      "Epoch: 25/60 Iteration: 5 Train loss: 0.24991\n",
      "Epoch: 25/60 Iteration: 10 Train loss: 0.25004\n",
      "Epoch: 25/60 Iteration: 15 Train loss: 0.24999\n",
      "Epoch: 25/60 Iteration: 20 Train loss: 0.25007\n",
      "Epoch: 25/60 Iteration: 25 Train loss: 0.25010\n",
      "Epoch: 25/60 Iteration: 30 Train loss: 0.25024\n",
      "Epoch: 25/60 Iteration: 35 Train loss: 0.25003\n",
      "Epoch: 25/60 Iteration: 40 Train loss: 0.25006\n",
      "Epoch: 26/60 Iteration: 5 Train loss: 0.24991\n",
      "Epoch: 26/60 Iteration: 10 Train loss: 0.25004\n",
      "Epoch: 26/60 Iteration: 15 Train loss: 0.24999\n",
      "Epoch: 26/60 Iteration: 20 Train loss: 0.25007\n",
      "Epoch: 26/60 Iteration: 25 Train loss: 0.25010\n",
      "Epoch: 26/60 Iteration: 30 Train loss: 0.25024\n",
      "Epoch: 26/60 Iteration: 35 Train loss: 0.25003\n",
      "Epoch: 26/60 Iteration: 40 Train loss: 0.25006\n",
      "Epoch: 27/60 Iteration: 5 Train loss: 0.24991\n",
      "Epoch: 27/60 Iteration: 10 Train loss: 0.25004\n",
      "Epoch: 27/60 Iteration: 15 Train loss: 0.24999\n",
      "Epoch: 27/60 Iteration: 20 Train loss: 0.25007\n",
      "Epoch: 27/60 Iteration: 25 Train loss: 0.25010\n",
      "Epoch: 27/60 Iteration: 30 Train loss: 0.25024\n",
      "Epoch: 27/60 Iteration: 35 Train loss: 0.25003\n",
      "Epoch: 27/60 Iteration: 40 Train loss: 0.25006\n",
      "Epoch: 28/60 Iteration: 5 Train loss: 0.24991\n",
      "Epoch: 28/60 Iteration: 10 Train loss: 0.25004\n",
      "Epoch: 28/60 Iteration: 15 Train loss: 0.24999\n",
      "Epoch: 28/60 Iteration: 20 Train loss: 0.25007\n",
      "Epoch: 28/60 Iteration: 25 Train loss: 0.25010\n",
      "Epoch: 28/60 Iteration: 30 Train loss: 0.25024\n",
      "Epoch: 28/60 Iteration: 35 Train loss: 0.25003\n",
      "Epoch: 28/60 Iteration: 40 Train loss: 0.25006\n",
      "Epoch: 29/60 Iteration: 5 Train loss: 0.24991\n",
      "Epoch: 29/60 Iteration: 10 Train loss: 0.25004\n",
      "Epoch: 29/60 Iteration: 15 Train loss: 0.24999\n",
      "Epoch: 29/60 Iteration: 20 Train loss: 0.25007\n",
      "Epoch: 29/60 Iteration: 25 Train loss: 0.25010\n",
      "Epoch: 29/60 Iteration: 30 Train loss: 0.25024\n",
      "Epoch: 29/60 Iteration: 35 Train loss: 0.25003\n",
      "Epoch: 29/60 Iteration: 40 Train loss: 0.25006\n",
      "Epoch: 30/60 Iteration: 5 Train loss: 0.24991\n",
      "Epoch: 30/60 Iteration: 10 Train loss: 0.25004\n",
      "Epoch: 30/60 Iteration: 15 Train loss: 0.24999\n",
      "Epoch: 30/60 Iteration: 20 Train loss: 0.25007\n",
      "Epoch: 30/60 Iteration: 25 Train loss: 0.25010\n",
      "Epoch: 30/60 Iteration: 30 Train loss: 0.25024\n",
      "Epoch: 30/60 Iteration: 35 Train loss: 0.25003\n",
      "Epoch: 30/60 Iteration: 40 Train loss: 0.25006\n",
      "Epoch: 31/60 Iteration: 5 Train loss: 0.24991\n",
      "Epoch: 31/60 Iteration: 10 Train loss: 0.25004\n",
      "Epoch: 31/60 Iteration: 15 Train loss: 0.24999\n",
      "Epoch: 31/60 Iteration: 20 Train loss: 0.25007\n",
      "Epoch: 31/60 Iteration: 25 Train loss: 0.25010\n",
      "Epoch: 31/60 Iteration: 30 Train loss: 0.25024\n",
      "Epoch: 31/60 Iteration: 35 Train loss: 0.25003\n",
      "Epoch: 31/60 Iteration: 40 Train loss: 0.25006\n",
      "Epoch: 32/60 Iteration: 5 Train loss: 0.24991\n",
      "Epoch: 32/60 Iteration: 10 Train loss: 0.25004\n",
      "Epoch: 32/60 Iteration: 15 Train loss: 0.24999\n",
      "Epoch: 32/60 Iteration: 20 Train loss: 0.25007\n",
      "Epoch: 32/60 Iteration: 25 Train loss: 0.25011\n",
      "Epoch: 32/60 Iteration: 30 Train loss: 0.25024\n",
      "Epoch: 32/60 Iteration: 35 Train loss: 0.25003\n",
      "Epoch: 32/60 Iteration: 40 Train loss: 0.25006\n",
      "Epoch: 33/60 Iteration: 5 Train loss: 0.24994\n",
      "Epoch: 33/60 Iteration: 10 Train loss: 0.25011\n",
      "Epoch: 33/60 Iteration: 15 Train loss: 0.25006\n",
      "Epoch: 33/60 Iteration: 20 Train loss: 0.25013\n",
      "Epoch: 33/60 Iteration: 25 Train loss: 0.25016\n",
      "Epoch: 33/60 Iteration: 30 Train loss: 0.25029\n",
      "Epoch: 33/60 Iteration: 35 Train loss: 0.25008\n",
      "Epoch: 33/60 Iteration: 40 Train loss: 0.25010\n",
      "Epoch: 34/60 Iteration: 5 Train loss: 0.24996\n",
      "Epoch: 34/60 Iteration: 10 Train loss: 0.25008\n",
      "Epoch: 34/60 Iteration: 15 Train loss: 0.25003\n",
      "Epoch: 34/60 Iteration: 20 Train loss: 0.25010\n",
      "Epoch: 34/60 Iteration: 25 Train loss: 0.25014\n",
      "Epoch: 34/60 Iteration: 30 Train loss: 0.25027\n",
      "Epoch: 34/60 Iteration: 35 Train loss: 0.25006\n",
      "Epoch: 34/60 Iteration: 40 Train loss: 0.25009\n",
      "Epoch: 35/60 Iteration: 5 Train loss: 0.24994\n",
      "Epoch: 35/60 Iteration: 10 Train loss: 0.25007\n",
      "Epoch: 35/60 Iteration: 15 Train loss: 0.25002\n",
      "Epoch: 35/60 Iteration: 20 Train loss: 0.25010\n",
      "Epoch: 35/60 Iteration: 25 Train loss: 0.25013\n",
      "Epoch: 35/60 Iteration: 30 Train loss: 0.25027\n",
      "Epoch: 35/60 Iteration: 35 Train loss: 0.25005\n",
      "Epoch: 35/60 Iteration: 40 Train loss: 0.25009\n",
      "Epoch: 36/60 Iteration: 5 Train loss: 0.24994\n",
      "Epoch: 36/60 Iteration: 10 Train loss: 0.25007\n",
      "Epoch: 36/60 Iteration: 15 Train loss: 0.25002\n",
      "Epoch: 36/60 Iteration: 20 Train loss: 0.25010\n",
      "Epoch: 36/60 Iteration: 25 Train loss: 0.25013\n",
      "Epoch: 36/60 Iteration: 30 Train loss: 0.25027\n",
      "Epoch: 36/60 Iteration: 35 Train loss: 0.25005\n",
      "Epoch: 36/60 Iteration: 40 Train loss: 0.25009\n",
      "Epoch: 37/60 Iteration: 5 Train loss: 0.24994\n",
      "Epoch: 37/60 Iteration: 10 Train loss: 0.25007\n",
      "Epoch: 37/60 Iteration: 15 Train loss: 0.25002\n",
      "Epoch: 37/60 Iteration: 20 Train loss: 0.25010\n",
      "Epoch: 37/60 Iteration: 25 Train loss: 0.25013\n",
      "Epoch: 37/60 Iteration: 30 Train loss: 0.25027\n",
      "Epoch: 37/60 Iteration: 35 Train loss: 0.25006\n",
      "Epoch: 37/60 Iteration: 40 Train loss: 0.25009\n",
      "Epoch: 38/60 Iteration: 5 Train loss: 0.24994\n",
      "Epoch: 38/60 Iteration: 10 Train loss: 0.25007\n",
      "Epoch: 38/60 Iteration: 15 Train loss: 0.25001\n",
      "Epoch: 38/60 Iteration: 20 Train loss: 0.25010\n",
      "Epoch: 38/60 Iteration: 25 Train loss: 0.25013\n",
      "Epoch: 38/60 Iteration: 30 Train loss: 0.25027\n",
      "Epoch: 38/60 Iteration: 35 Train loss: 0.25006\n",
      "Epoch: 38/60 Iteration: 40 Train loss: 0.25009\n",
      "Epoch: 39/60 Iteration: 5 Train loss: 0.24994\n",
      "Epoch: 39/60 Iteration: 10 Train loss: 0.25007\n",
      "Epoch: 39/60 Iteration: 15 Train loss: 0.25002\n",
      "Epoch: 39/60 Iteration: 20 Train loss: 0.25010\n",
      "Epoch: 39/60 Iteration: 25 Train loss: 0.25013\n",
      "Epoch: 39/60 Iteration: 30 Train loss: 0.25027\n",
      "Epoch: 39/60 Iteration: 35 Train loss: 0.25005\n",
      "Epoch: 39/60 Iteration: 40 Train loss: 0.25008\n",
      "Epoch: 40/60 Iteration: 5 Train loss: 0.24994\n",
      "Epoch: 40/60 Iteration: 10 Train loss: 0.25006\n",
      "Epoch: 40/60 Iteration: 15 Train loss: 0.25002\n",
      "Epoch: 40/60 Iteration: 20 Train loss: 0.25010\n",
      "Epoch: 40/60 Iteration: 25 Train loss: 0.25013\n",
      "Epoch: 40/60 Iteration: 30 Train loss: 0.25027\n",
      "Epoch: 40/60 Iteration: 35 Train loss: 0.25005\n",
      "Epoch: 40/60 Iteration: 40 Train loss: 0.25009\n",
      "Epoch: 41/60 Iteration: 5 Train loss: 0.24994\n",
      "Epoch: 41/60 Iteration: 10 Train loss: 0.25006\n",
      "Epoch: 41/60 Iteration: 15 Train loss: 0.25001\n",
      "Epoch: 41/60 Iteration: 20 Train loss: 0.25009\n",
      "Epoch: 41/60 Iteration: 25 Train loss: 0.25013\n",
      "Epoch: 41/60 Iteration: 30 Train loss: 0.25027\n",
      "Epoch: 41/60 Iteration: 35 Train loss: 0.25005\n",
      "Epoch: 41/60 Iteration: 40 Train loss: 0.25008\n",
      "Epoch: 42/60 Iteration: 5 Train loss: 0.24994\n",
      "Epoch: 42/60 Iteration: 10 Train loss: 0.25006\n",
      "Epoch: 42/60 Iteration: 15 Train loss: 0.25002\n",
      "Epoch: 42/60 Iteration: 20 Train loss: 0.25010\n",
      "Epoch: 42/60 Iteration: 25 Train loss: 0.25013\n",
      "Epoch: 42/60 Iteration: 30 Train loss: 0.25027\n",
      "Epoch: 42/60 Iteration: 35 Train loss: 0.25005\n",
      "Epoch: 42/60 Iteration: 40 Train loss: 0.25008\n",
      "Epoch: 43/60 Iteration: 5 Train loss: 0.24994\n",
      "Epoch: 43/60 Iteration: 10 Train loss: 0.25007\n",
      "Epoch: 43/60 Iteration: 15 Train loss: 0.25002\n",
      "Epoch: 43/60 Iteration: 20 Train loss: 0.25010\n",
      "Epoch: 43/60 Iteration: 25 Train loss: 0.25013\n",
      "Epoch: 43/60 Iteration: 30 Train loss: 0.25027\n",
      "Epoch: 43/60 Iteration: 35 Train loss: 0.25006\n"
     ]
    },
    {
     "name": "stdout",
     "output_type": "stream",
     "text": [
      "Epoch: 43/60 Iteration: 40 Train loss: 0.25008\n",
      "Epoch: 44/60 Iteration: 5 Train loss: 0.24994\n",
      "Epoch: 44/60 Iteration: 10 Train loss: 0.25007\n",
      "Epoch: 44/60 Iteration: 15 Train loss: 0.25002\n",
      "Epoch: 44/60 Iteration: 20 Train loss: 0.25010\n",
      "Epoch: 44/60 Iteration: 25 Train loss: 0.25013\n",
      "Epoch: 44/60 Iteration: 30 Train loss: 0.25027\n",
      "Epoch: 44/60 Iteration: 35 Train loss: 0.25006\n",
      "Epoch: 44/60 Iteration: 40 Train loss: 0.25009\n",
      "Epoch: 45/60 Iteration: 5 Train loss: 0.24994\n",
      "Epoch: 45/60 Iteration: 10 Train loss: 0.25007\n",
      "Epoch: 45/60 Iteration: 15 Train loss: 0.25002\n",
      "Epoch: 45/60 Iteration: 20 Train loss: 0.25010\n",
      "Epoch: 45/60 Iteration: 25 Train loss: 0.25013\n",
      "Epoch: 45/60 Iteration: 30 Train loss: 0.25027\n",
      "Epoch: 45/60 Iteration: 35 Train loss: 0.25006\n",
      "Epoch: 45/60 Iteration: 40 Train loss: 0.25009\n",
      "Epoch: 46/60 Iteration: 5 Train loss: 0.24994\n",
      "Epoch: 46/60 Iteration: 10 Train loss: 0.25008\n",
      "Epoch: 46/60 Iteration: 15 Train loss: 0.25003\n",
      "Epoch: 46/60 Iteration: 20 Train loss: 0.25011\n",
      "Epoch: 46/60 Iteration: 25 Train loss: 0.25015\n",
      "Epoch: 46/60 Iteration: 30 Train loss: 0.25029\n",
      "Epoch: 46/60 Iteration: 35 Train loss: 0.25008\n",
      "Epoch: 46/60 Iteration: 40 Train loss: 0.25011\n",
      "Epoch: 47/60 Iteration: 5 Train loss: 0.24996\n",
      "Epoch: 47/60 Iteration: 10 Train loss: 0.25009\n",
      "Epoch: 47/60 Iteration: 15 Train loss: 0.25004\n",
      "Epoch: 47/60 Iteration: 20 Train loss: 0.25012\n",
      "Epoch: 47/60 Iteration: 25 Train loss: 0.25015\n",
      "Epoch: 47/60 Iteration: 30 Train loss: 0.25029\n",
      "Epoch: 47/60 Iteration: 35 Train loss: 0.25008\n",
      "Epoch: 47/60 Iteration: 40 Train loss: 0.25011\n",
      "Epoch: 48/60 Iteration: 5 Train loss: 0.24996\n",
      "Epoch: 48/60 Iteration: 10 Train loss: 0.25010\n",
      "Epoch: 48/60 Iteration: 15 Train loss: 0.25004\n",
      "Epoch: 48/60 Iteration: 20 Train loss: 0.25013\n",
      "Epoch: 48/60 Iteration: 25 Train loss: 0.25016\n",
      "Epoch: 48/60 Iteration: 30 Train loss: 0.25029\n",
      "Epoch: 48/60 Iteration: 35 Train loss: 0.25008\n",
      "Epoch: 48/60 Iteration: 40 Train loss: 0.25010\n",
      "Epoch: 49/60 Iteration: 5 Train loss: 0.24995\n",
      "Epoch: 49/60 Iteration: 10 Train loss: 0.25007\n",
      "Epoch: 49/60 Iteration: 15 Train loss: 0.25002\n",
      "Epoch: 49/60 Iteration: 20 Train loss: 0.25009\n",
      "Epoch: 49/60 Iteration: 25 Train loss: 0.25013\n",
      "Epoch: 49/60 Iteration: 30 Train loss: 0.25026\n",
      "Epoch: 49/60 Iteration: 35 Train loss: 0.25005\n",
      "Epoch: 49/60 Iteration: 40 Train loss: 0.25008\n",
      "Epoch: 50/60 Iteration: 5 Train loss: 0.24993\n",
      "Epoch: 50/60 Iteration: 10 Train loss: 0.25006\n",
      "Epoch: 50/60 Iteration: 15 Train loss: 0.25001\n",
      "Epoch: 50/60 Iteration: 20 Train loss: 0.25009\n",
      "Epoch: 50/60 Iteration: 25 Train loss: 0.25013\n",
      "Epoch: 50/60 Iteration: 30 Train loss: 0.25026\n",
      "Epoch: 50/60 Iteration: 35 Train loss: 0.25005\n",
      "Epoch: 50/60 Iteration: 40 Train loss: 0.25008\n",
      "Epoch: 51/60 Iteration: 5 Train loss: 0.24993\n",
      "Epoch: 51/60 Iteration: 10 Train loss: 0.25006\n",
      "Epoch: 51/60 Iteration: 15 Train loss: 0.25001\n",
      "Epoch: 51/60 Iteration: 20 Train loss: 0.25009\n",
      "Epoch: 51/60 Iteration: 25 Train loss: 0.25013\n",
      "Epoch: 51/60 Iteration: 30 Train loss: 0.25027\n",
      "Epoch: 51/60 Iteration: 35 Train loss: 0.25005\n",
      "Epoch: 51/60 Iteration: 40 Train loss: 0.25008\n",
      "Epoch: 52/60 Iteration: 5 Train loss: 0.24993\n",
      "Epoch: 52/60 Iteration: 10 Train loss: 0.25006\n",
      "Epoch: 52/60 Iteration: 15 Train loss: 0.25001\n",
      "Epoch: 52/60 Iteration: 20 Train loss: 0.25009\n",
      "Epoch: 52/60 Iteration: 25 Train loss: 0.25013\n",
      "Epoch: 52/60 Iteration: 30 Train loss: 0.25026\n",
      "Epoch: 52/60 Iteration: 35 Train loss: 0.25005\n",
      "Epoch: 52/60 Iteration: 40 Train loss: 0.25008\n",
      "Epoch: 53/60 Iteration: 5 Train loss: 0.24993\n",
      "Epoch: 53/60 Iteration: 10 Train loss: 0.25006\n",
      "Epoch: 53/60 Iteration: 15 Train loss: 0.25001\n",
      "Epoch: 53/60 Iteration: 20 Train loss: 0.25009\n",
      "Epoch: 53/60 Iteration: 25 Train loss: 0.25013\n",
      "Epoch: 53/60 Iteration: 30 Train loss: 0.25027\n",
      "Epoch: 53/60 Iteration: 35 Train loss: 0.25005\n",
      "Epoch: 53/60 Iteration: 40 Train loss: 0.25008\n",
      "Epoch: 54/60 Iteration: 5 Train loss: 0.24994\n",
      "Epoch: 54/60 Iteration: 10 Train loss: 0.25006\n",
      "Epoch: 54/60 Iteration: 15 Train loss: 0.25001\n",
      "Epoch: 54/60 Iteration: 20 Train loss: 0.25010\n",
      "Epoch: 54/60 Iteration: 25 Train loss: 0.25013\n",
      "Epoch: 54/60 Iteration: 30 Train loss: 0.25027\n",
      "Epoch: 54/60 Iteration: 35 Train loss: 0.25005\n",
      "Epoch: 54/60 Iteration: 40 Train loss: 0.25008\n",
      "Epoch: 55/60 Iteration: 5 Train loss: 0.24994\n",
      "Epoch: 55/60 Iteration: 10 Train loss: 0.25007\n",
      "Epoch: 55/60 Iteration: 15 Train loss: 0.25002\n",
      "Epoch: 55/60 Iteration: 20 Train loss: 0.25010\n",
      "Epoch: 55/60 Iteration: 25 Train loss: 0.25013\n",
      "Epoch: 55/60 Iteration: 30 Train loss: 0.25027\n",
      "Epoch: 55/60 Iteration: 35 Train loss: 0.25005\n",
      "Epoch: 55/60 Iteration: 40 Train loss: 0.25009\n",
      "Epoch: 56/60 Iteration: 5 Train loss: 0.24994\n",
      "Epoch: 56/60 Iteration: 10 Train loss: 0.25009\n",
      "Epoch: 56/60 Iteration: 15 Train loss: 0.25004\n",
      "Epoch: 56/60 Iteration: 20 Train loss: 0.25013\n",
      "Epoch: 56/60 Iteration: 25 Train loss: 0.25016\n",
      "Epoch: 56/60 Iteration: 30 Train loss: 0.25030\n",
      "Epoch: 56/60 Iteration: 35 Train loss: 0.25008\n",
      "Epoch: 56/60 Iteration: 40 Train loss: 0.25011\n",
      "Epoch: 57/60 Iteration: 5 Train loss: 0.24996\n",
      "Epoch: 57/60 Iteration: 10 Train loss: 0.25009\n",
      "Epoch: 57/60 Iteration: 15 Train loss: 0.25004\n",
      "Epoch: 57/60 Iteration: 20 Train loss: 0.25012\n",
      "Epoch: 57/60 Iteration: 25 Train loss: 0.25015\n",
      "Epoch: 57/60 Iteration: 30 Train loss: 0.25029\n",
      "Epoch: 57/60 Iteration: 35 Train loss: 0.25007\n",
      "Epoch: 57/60 Iteration: 40 Train loss: 0.25010\n",
      "Epoch: 58/60 Iteration: 5 Train loss: 0.24996\n",
      "Epoch: 58/60 Iteration: 10 Train loss: 0.25009\n",
      "Epoch: 58/60 Iteration: 15 Train loss: 0.25004\n",
      "Epoch: 58/60 Iteration: 20 Train loss: 0.25012\n",
      "Epoch: 58/60 Iteration: 25 Train loss: 0.25015\n",
      "Epoch: 58/60 Iteration: 30 Train loss: 0.25029\n",
      "Epoch: 58/60 Iteration: 35 Train loss: 0.25007\n",
      "Epoch: 58/60 Iteration: 40 Train loss: 0.25011\n",
      "Epoch: 59/60 Iteration: 5 Train loss: 0.24996\n",
      "Epoch: 59/60 Iteration: 10 Train loss: 0.25009\n",
      "Epoch: 59/60 Iteration: 15 Train loss: 0.25004\n",
      "Epoch: 59/60 Iteration: 20 Train loss: 0.25012\n",
      "Epoch: 59/60 Iteration: 25 Train loss: 0.25015\n",
      "Epoch: 59/60 Iteration: 30 Train loss: 0.25029\n",
      "Epoch: 59/60 Iteration: 35 Train loss: 0.25007\n",
      "Epoch: 59/60 Iteration: 40 Train loss: 0.25010\n",
      "Training Completed\n",
      "Total Time Taken: 826.5151345729828 sec\n"
     ]
    }
   ],
   "source": [
    "sess = tf.Session()\n",
    "sess.run(tf.global_variables_initializer())\n",
    "global_train_acc = []\n",
    "global_test_acc = []\n",
    "\n",
    "global_train_loss = []\n",
    "global_test_loss = []\n",
    "import time\n",
    "start_time = time.time()\n",
    "for e in range(n_epochs):\n",
    "    state = sess.run(initial_state)\n",
    "    iteration = 1\n",
    "    loss_=0.0\n",
    "    temp_train_loss = []\n",
    "    for ii, (x, y) in enumerate(get_batches(train_x, train_y, batch_size), 1):\n",
    "        feed = {X: x, Y: y, initial_state: state}#, keep_prob: 0.5 }\n",
    "\n",
    "        state, loss_,  _ = sess.run([final_state, loss, optimizer], feed_dict=feed)\n",
    "\n",
    "        if iteration%5==0:\n",
    "            print(\"Epoch: {}/{}\".format(e, n_epochs),\n",
    "                  \"Iteration: {}\".format(iteration),\n",
    "                  \"Train loss: {:.5f}\".format(loss_))\n",
    "        temp_train_loss.append(loss_)\n",
    "        '''\n",
    "        if iteration%25==0:\n",
    "            val_acc = []\n",
    "            val_state = sess.run(cell.zero_state(batch_size, tf.float32))\n",
    "            for x, y in get_batches(val_x, val_y, batch_size):\n",
    "                feed = {X: x,\n",
    "                        Y: y,\n",
    "                        initial_state: val_state}\n",
    "                batch_acc, val_state = sess.run([accuracy, final_state], feed_dict=feed)\n",
    "                val_acc.append(batch_acc)\n",
    "            print(\"Val acc: {:.5f}\".format(np.mean(val_acc)))\n",
    "        '''\n",
    "        '''\n",
    "        if iteration%25==0:\n",
    "            # train Acc calculation\n",
    "            train_acc = []\n",
    "            train_state = sess.run(cell.zero_state(batch_size, tf.float32))\n",
    "            for x, y in get_batches(train_x, train_y, batch_size):\n",
    "                feed = {X: x,\n",
    "                        Y: y,\n",
    "                        initial_state: train_state}\n",
    "                batch_acc, train_state, corr = sess.run([accuracy, final_state, correct_pred], feed_dict=feed)\n",
    "                bad_indexes = [index for index, correctness in enumerate(corr) if correctness ==0 ]\n",
    "                train_acc.append(batch_acc)\n",
    "            print(\"Train acc: {:.5f}\".format(np.mean(train_acc)))\n",
    "            global_train_acc.append(np.mean(train_acc))\n",
    "            \n",
    "            # test acc calculation\n",
    "            test_acc = []\n",
    "            test_state = sess.run(cell.zero_state(batch_size, tf.float32))\n",
    "            for ii, (x, y) in enumerate(get_batches(test_x, test_y, batch_size), 1):\n",
    "                feed = {X: x,Y: y,initial_state: test_state}\n",
    "\n",
    "                batch_acc, test_state = sess.run([accuracy, final_state], feed_dict=feed)\n",
    "                test_acc.append(batch_acc)\n",
    "            print(\"Train acc: {:.5f}\".format(np.mean(test_acc)))\n",
    "            global_test_acc.append(np.mean(test_acc))\n",
    "        '''    \n",
    "        iteration +=1    \n",
    "    global_train_loss.append(np.mean(temp_train_loss))\n",
    "    \n",
    "    temp_test_loss = []\n",
    "    test_state = sess.run(cell.zero_state(batch_size, tf.float32))\n",
    "    for ii, (x, y) in enumerate(get_batches(test_x, test_y, batch_size), 1):\n",
    "        feed = {X: x,Y: y,initial_state: test_state} # , keep_prob: 1 }\n",
    "\n",
    "        batch_acc, test_state, loss_ = sess.run([accuracy, final_state, loss], feed_dict=feed)\n",
    "        temp_test_loss.append(loss_)\n",
    "    \n",
    "    global_test_loss.append(np.mean(temp_test_loss))\n",
    "    \n",
    "    \n",
    "    \n",
    "print('Training Completed')\n",
    "print('Total Time Taken: '+str(time.time()-start_time)+' sec' )"
   ]
  },
  {
   "cell_type": "code",
   "execution_count": 18,
   "metadata": {},
   "outputs": [
    {
     "name": "stdout",
     "output_type": "stream",
     "text": [
      "Train acc: 0.49840\n"
     ]
    }
   ],
   "source": [
    "test_acc = []\n",
    "test_state = sess.run(cell.zero_state(batch_size, tf.float32))\n",
    "for ii, (x, y) in enumerate(get_batches(test_x, test_y, batch_size), 1):\n",
    "    feed = {X: x,Y: y,initial_state: test_state}#, keep_prob: 1}\n",
    "\n",
    "    batch_acc, test_state = sess.run([accuracy, final_state], feed_dict=feed)\n",
    "    test_acc.append(batch_acc)\n",
    "print(\"Train acc: {:.5f}\".format(np.mean(test_acc)))"
   ]
  },
  {
   "cell_type": "code",
   "execution_count": null,
   "metadata": {
    "collapsed": true
   },
   "outputs": [],
   "source": [
    "'''\n",
    "wrong_temp = [92, 282, 1184, 2331, 2815, 2848, 3233, 4833, 7077, 7713, 7837, 8724, 9364, 10162, 10477, 12243, 14445, 15076, 18896, 19741, 19895]\n",
    "for i in wrong_temp[:]:\n",
    "    print('#'+str(i))\n",
    "    print(reviews[i])\n",
    "    print('-->Label='+str(labels[i]))\n",
    "    print()\n",
    "    print()\n",
    "'''"
   ]
  },
  {
   "cell_type": "code",
   "execution_count": null,
   "metadata": {},
   "outputs": [],
   "source": [
    "'''\n",
    "max_l = 0\n",
    "min_l = 10000\n",
    "i = 0\n",
    "m = -1\n",
    "for review in reviews_pp_ints:\n",
    "\n",
    "    if len(review) > max_l:\n",
    "        max_l = len(review)\n",
    "    if len(review) < min_l:\n",
    "        min_l = len(review)\n",
    "        m = i\n",
    "    i += 1\n",
    "reviews[m], m, labels[m]\n",
    "'''"
   ]
  },
  {
   "cell_type": "code",
   "execution_count": null,
   "metadata": {},
   "outputs": [],
   "source": [
    "words_count['terrible']"
   ]
  },
  {
   "cell_type": "code",
   "execution_count": null,
   "metadata": {},
   "outputs": [],
   "source": [
    "words_count['horror']"
   ]
  },
  {
   "cell_type": "code",
   "execution_count": null,
   "metadata": {},
   "outputs": [],
   "source": [
    "a = [92, 282, 1184, 2331, 2815, 2848, 3233, 4833, 7077, 7713, 7837, 8724, 9364, 10162, 10477, 12243, 14445, 15076, 18896, 19741, 19895]\n",
    "len(a)"
   ]
  },
  {
   "cell_type": "markdown",
   "metadata": {},
   "source": [
    "## Scores of Bad Indices"
   ]
  },
  {
   "cell_type": "code",
   "execution_count": null,
   "metadata": {},
   "outputs": [],
   "source": [
    "'''\n",
    "for index in a:\n",
    "    state = sess.run(initial_state)\n",
    "\n",
    "    feed = {X: features[index].reshape(1,None) , Y: labels[index].reshape(1,None), initial_state: state}\n",
    "\n",
    "        outputs_ = sess.run([outputs], feed_dict=feed)\n",
    "\n",
    "    print(\"Index:() \".format(index))\n",
    "    print(\"Prediction:{} \".format(outputs_))\n",
    "'''"
   ]
  },
  {
   "cell_type": "markdown",
   "metadata": {},
   "source": [
    "## Training - Test Curve"
   ]
  },
  {
   "cell_type": "code",
   "execution_count": null,
   "metadata": {},
   "outputs": [],
   "source": [
    "print(len(global_train_loss))\n",
    "print(global_test_loss)"
   ]
  },
  {
   "cell_type": "code",
   "execution_count": null,
   "metadata": {
    "collapsed": true
   },
   "outputs": [],
   "source": [
    "'''\n",
    "for i in range( len(global_train_acc) ):\n",
    "    global_train_acc[i] /=100\n",
    "    global_test_acc[i] /=100\n",
    "'''    "
   ]
  },
  {
   "cell_type": "code",
   "execution_count": 19,
   "metadata": {},
   "outputs": [
    {
     "name": "stdout",
     "output_type": "stream",
     "text": [
      "[3937.6453, 871.09827, 143.72031, 17.296738, 1.6360394, 0.32231849, 0.25223666, 0.25010592, 0.25007883, 0.25008047, 0.25008193, 0.25008318, 0.25008425, 0.25008518, 0.25008601, 0.25008669, 0.25008732, 0.25008792, 0.25008839, 0.2500889, 0.25008938, 0.2500897, 0.25009006, 0.2500906, 0.25009099, 0.25009128, 0.25009155, 0.25009185, 0.25009236, 0.25009292, 0.25009325, 0.25009426, 0.2500959, 0.2501463, 0.25012937, 0.25012317, 0.25012082, 0.25012076, 0.25012073, 0.25011986, 0.25011951, 0.25011909, 0.25012055, 0.2501213, 0.25012112, 0.25012264, 0.25013608, 0.25014266, 0.25014639, 0.25011954, 0.25011331, 0.25011489, 0.25011539, 0.25011721, 0.25011835, 0.25012225, 0.25014442, 0.25014275, 0.2501412, 0.25014085]\n",
      "[1732.7402, 317.22092, 42.482044, 4.1311865, 0.481215, 0.25812745, 0.25017908, 0.25004664, 0.25004756, 0.25004897, 0.25005007, 0.25005114, 0.25005195, 0.25005275, 0.25005347, 0.25005406, 0.25005466, 0.25005516, 0.25005555, 0.25005603, 0.25005645, 0.25005671, 0.25005713, 0.2500577, 0.25005797, 0.25005817, 0.25005871, 0.25005907, 0.25005949, 0.25005999, 0.25006056, 0.25006136, 0.25006574, 0.25010651, 0.25009304, 0.25008911, 0.25008625, 0.25008756, 0.25008863, 0.25008592, 0.25008714, 0.2500869, 0.25008839, 0.25008732, 0.25008851, 0.25009137, 0.25011259, 0.25011164, 0.25010121, 0.25007978, 0.25008103, 0.2500841, 0.25008357, 0.25008544, 0.25008789, 0.25008851, 0.25011498, 0.25010857, 0.25010854, 0.25010723]\n"
     ]
    },
    {
     "data": {
      "image/png": "[encoded data removed]",
      "text/plain": [
       "<matplotlib.figure.Figure at 0x7f43671e0d30>"
      ]
     },
     "metadata": {},
     "output_type": "display_data"
    },
    {
     "name": "stdout",
     "output_type": "stream",
     "text": [
      "Minimum Testing Loss: 0.250047\n"
     ]
    }
   ],
   "source": [
    "print(global_train_loss)\n",
    "print(global_test_loss)\n",
    "import matplotlib.pyplot as plt\n",
    "%matplotlib inline \n",
    "plt.ion()\n",
    "x = range(60) \n",
    "plt.axis([0,70,0,0.3])\n",
    "plt.plot(x,global_train_loss,'go',x,global_test_loss,'ro')\n",
    "plt.show()\n",
    "\n",
    "print('Minimum Testing Loss: '+str(np.min(global_test_loss)) )"
   ]
  },
  {
   "cell_type": "code",
   "execution_count": null,
   "metadata": {
    "collapsed": true
   },
   "outputs": [],
   "source": []
  },
  {
   "cell_type": "code",
   "execution_count": null,
   "metadata": {},
   "outputs": [],
   "source": [
    "print(reviews[92])"
   ]
  }
 ],
 "metadata": {
  "kernelspec": {
   "display_name": "Python 3",
   "language": "python",
   "name": "python3"
  },
  "language_info": {
   "codemirror_mode": {
    "name": "ipython",
    "version": 3
   },
   "file_extension": ".py",
   "mimetype": "text/x-python",
   "name": "python",
   "nbconvert_exporter": "python",
   "pygments_lexer": "ipython3",
   "version": "3.5.3"
  }
 },
 "nbformat": 4,
 "nbformat_minor": 2
}
