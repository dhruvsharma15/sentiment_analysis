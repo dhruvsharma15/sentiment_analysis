{
 "cells": [
  {
   "cell_type": "markdown",
   "metadata": {
    "collapsed": true
   },
   "source": [
    "# MILESTONE 2\n",
    "\n",
    "IMDB dataset + Siraj's Network"
   ]
  },
  {
   "cell_type": "code",
   "execution_count": 1,
   "metadata": {
    "collapsed": true
   },
   "outputs": [],
   "source": [
    "import numpy as np\n",
    "import tensorflow as tf"
   ]
  },
  {
   "cell_type": "markdown",
   "metadata": {},
   "source": [
    "## Preprocessing Dataset\n",
    "\n",
    "1. Removing punctuations\n",
    "2. Generating word_to_int map\n",
    "3. Coverting each review in ints\n",
    "4. Padding each review with 0's and generating input of length 200"
   ]
  },
  {
   "cell_type": "code",
   "execution_count": 2,
   "metadata": {
    "collapsed": true
   },
   "outputs": [],
   "source": [
    "import re\n",
    "from collections import Counter\n",
    "from nltk.corpus import stopwords\n",
    "\n",
    "def preprocess(text):\n",
    "    \n",
    "    # Replace punctuation with tokens so we can use them in our model\n",
    "    text = text.lower()\n",
    "    text = text.replace('.', ' <PERIOD> ')\n",
    "    text = text.replace(',', ' <PERIOD> ')\n",
    "    text = text.replace('\"', ' <PERIOD> ')\n",
    "    text = text.replace(';', ' <PERIOD> ')\n",
    "    text = text.replace('!', ' <PERIOD> ')\n",
    "    text = text.replace('?', ' <PERIOD> ')\n",
    "    text = text.replace('(', ' <PERIOD> ')\n",
    "    text = text.replace(')', ' <PERIOD> ')\n",
    "    text = text.replace('--', ' <PERIOD> ')\n",
    "    text = text.replace('?', ' <PERIOD> ')\n",
    "    text = text.replace('<br />', ' <PERIOD> ')\n",
    "    text = text.replace('\\\\', ' <PERIOD> ')\n",
    "    # text = text.replace('\\n', ' <NEW_LINE> ')\n",
    "    text = text.replace(':', ' <PERIOD> ')\n",
    "    text = text.replace(' <PERIOD> ', ' ')\n",
    "    words = text.split()\n",
    "    \n",
    "    return words\n",
    "\n",
    "def removing_noise(words):\n",
    "    word_count = Counter(words)\n",
    "    #stops = set(stopwords.words(\"english\"))\n",
    "    words_new = [word for word in words if (word_count[word]>5) #and (not word in stops)\n",
    "                ]\n",
    "    return words_new\n",
    "    \n"
   ]
  },
  {
   "cell_type": "code",
   "execution_count": 3,
   "metadata": {
    "collapsed": true
   },
   "outputs": [],
   "source": [
    "import csv\n",
    "\n",
    "filename = 'data/labeledTrainData.tsv'\n",
    "review_ids = []\n",
    "reviews = []\n",
    "labels = []\n",
    "#importing dataset into lists\n",
    "with open(filename, 'r') as f:\n",
    "    next(f)\n",
    "    reader = csv.reader(f, delimiter='\\t')\n",
    "    \n",
    "    for row in reader:\n",
    "        review_ids.append(row[0])\n",
    "        labels.append([int(row[1])] )\n",
    "        reviews.append(row[2])"
   ]
  },
  {
   "cell_type": "code",
   "execution_count": 4,
   "metadata": {
    "collapsed": true
   },
   "outputs": [],
   "source": [
    "reviews_pp = []\n",
    "words = []\n",
    "\n",
    "for review in reviews:\n",
    "    review_pp = preprocess(review)\n",
    "    reviews_pp.append(review_pp)\n",
    "    words.extend(review_pp)\n",
    "    \n",
    "words = removing_noise(words)"
   ]
  },
  {
   "cell_type": "code",
   "execution_count": 5,
   "metadata": {
    "collapsed": true
   },
   "outputs": [],
   "source": [
    "#Converting word to integers and making the vocabulary\n",
    "vocab = set(words)\n",
    "vocab_size = len(vocab)\n",
    "words_count = Counter(words)\n",
    "sorted_vocab = sorted(words_count, key = words_count.get, reverse = True)\n",
    "word_to_int = {word:i for i,word in enumerate(sorted_vocab)}\n",
    "\n",
    "#Converting each review in the form of integers\n",
    "reviews_pp_ints = []\n",
    "for review in reviews_pp:\n",
    "    this_review_int = []\n",
    "    for word in review:\n",
    "        if word in vocab:\n",
    "            this_review_int.append(word_to_int[word])\n",
    "    reviews_pp_ints.append(this_review_int)"
   ]
  },
  {
   "cell_type": "code",
   "execution_count": null,
   "metadata": {
    "collapsed": true
   },
   "outputs": [],
   "source": []
  }
 ],
 "metadata": {
  "kernelspec": {
   "display_name": "Python 3",
   "language": "python",
   "name": "python3"
  },
  "language_info": {
   "codemirror_mode": {
    "name": "ipython",
    "version": 3
   },
   "file_extension": ".py",
   "mimetype": "text/x-python",
   "name": "python",
   "nbconvert_exporter": "python",
   "pygments_lexer": "ipython3",
   "version": "3.6.0"
  }
 },
 "nbformat": 4,
 "nbformat_minor": 2
}
