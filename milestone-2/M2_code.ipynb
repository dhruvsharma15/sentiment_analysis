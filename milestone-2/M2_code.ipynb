{
 "cells": [
  {
   "cell_type": "markdown",
   "metadata": {
    "collapsed": true
   },
   "source": [
    "# MILESTONE 2\n",
    "\n",
    "IMDB dataset + Siraj's Network"
   ]
  },
  {
   "cell_type": "code",
   "execution_count": 1,
   "metadata": {
    "collapsed": true
   },
   "outputs": [],
   "source": [
    "import numpy as np\n",
    "import tensorflow as tf"
   ]
  },
  {
   "cell_type": "markdown",
   "metadata": {},
   "source": [
    "## Preprocessing Dataset\n",
    "\n",
    "1. Removing punctuations\n",
    "2. Generating word_to_int map\n",
    "3. Coverting each review in ints\n",
    "4. Padding each review with 0's and generating input of length 200"
   ]
  },
  {
   "cell_type": "code",
   "execution_count": 2,
   "metadata": {
    "collapsed": true
   },
   "outputs": [],
   "source": [
    "import re\n",
    "from collections import Counter\n",
    "from nltk.corpus import stopwords\n",
    "\n",
    "def preprocess(text):\n",
    "    \n",
    "    # Replace punctuation with tokens so we can use them in our model\n",
    "    text = text.lower()\n",
    "    text = text.replace('.', ' <PERIOD> ')\n",
    "    text = text.replace(',', ' <PERIOD> ')\n",
    "    text = text.replace('\"', ' <PERIOD> ')\n",
    "    text = text.replace(';', ' <PERIOD> ')\n",
    "    text = text.replace('!', ' <PERIOD> ')\n",
    "    text = text.replace('?', ' <PERIOD> ')\n",
    "    text = text.replace('(', ' <PERIOD> ')\n",
    "    text = text.replace(')', ' <PERIOD> ')\n",
    "    text = text.replace('--', ' <PERIOD> ')\n",
    "    text = text.replace('?', ' <PERIOD> ')\n",
    "    text = text.replace('<br />', ' <PERIOD> ')\n",
    "    text = text.replace('\\\\', ' <PERIOD> ')\n",
    "    # text = text.replace('\\n', ' <NEW_LINE> ')\n",
    "    text = text.replace(':', ' <PERIOD> ')\n",
    "    text = text.replace(' <PERIOD> ', ' ')\n",
    "    words = text.split()\n",
    "    \n",
    "    return words\n",
    "\n",
    "def removing_noise(words):\n",
    "    word_count = Counter(words)\n",
    "    #stops = set(stopwords.words(\"english\"))\n",
    "    words_new = [word for word in words if (word_count[word]>5) #and (not word in stops)\n",
    "                ]\n",
    "    return words_new\n",
    "    \n"
   ]
  },
  {
   "cell_type": "code",
   "execution_count": 3,
   "metadata": {
    "collapsed": true
   },
   "outputs": [],
   "source": [
    "import csv\n",
    "\n",
    "filename = 'data/labeledTrainData.tsv'\n",
    "review_ids = []\n",
    "reviews = []\n",
    "labels = []\n",
    "#importing dataset into lists\n",
    "with open(filename, 'r') as f:\n",
    "    next(f)\n",
    "    reader = csv.reader(f, delimiter='\\t')\n",
    "    \n",
    "    for row in reader:\n",
    "        review_ids.append(row[0])\n",
    "        labels.append([int(row[1])] )\n",
    "        reviews.append(row[2])"
   ]
  },
  {
   "cell_type": "code",
   "execution_count": 4,
   "metadata": {
    "collapsed": true
   },
   "outputs": [],
   "source": [
    "reviews_pp = []\n",
    "words = []\n",
    "\n",
    "for review in reviews:\n",
    "    review_pp = preprocess(review)\n",
    "    reviews_pp.append(review_pp)\n",
    "    words.extend(review_pp)\n",
    "    \n",
    "words = removing_noise(words)"
   ]
  },
  {
   "cell_type": "code",
   "execution_count": 5,
   "metadata": {
    "collapsed": true
   },
   "outputs": [],
   "source": [
    "#Converting word to integers and making the vocabulary\n",
    "vocab = set(words)\n",
    "vocab_size = len(vocab)\n",
    "words_count = Counter(words)\n",
    "sorted_vocab = sorted(words_count, key = words_count.get, reverse = True)\n",
    "word_to_int = {word:i for i,word in enumerate(sorted_vocab,1)}\n",
    "\n",
    "#Converting each review in the form of integers\n",
    "reviews_pp_ints = []\n",
    "for review in reviews_pp:\n",
    "    this_review_int = []\n",
    "    for word in review:\n",
    "        if word in vocab:\n",
    "            this_review_int.append(word_to_int[word])\n",
    "    reviews_pp_ints.append(this_review_int)"
   ]
  },
  {
   "cell_type": "code",
   "execution_count": 6,
   "metadata": {
    "scrolled": false
   },
   "outputs": [
    {
     "data": {
      "text/plain": [
       "420"
      ]
     },
     "execution_count": 6,
     "metadata": {},
     "output_type": "execute_result"
    }
   ],
   "source": [
    "len(reviews_pp_ints[0])"
   ]
  },
  {
   "cell_type": "code",
   "execution_count": 7,
   "metadata": {},
   "outputs": [
    {
     "data": {
      "text/plain": [
       "430"
      ]
     },
     "execution_count": 7,
     "metadata": {},
     "output_type": "execute_result"
    }
   ],
   "source": [
    "len(reviews_pp[0])"
   ]
  },
  {
   "cell_type": "code",
   "execution_count": 8,
   "metadata": {},
   "outputs": [
    {
     "data": {
      "text/plain": [
       "25000"
      ]
     },
     "execution_count": 8,
     "metadata": {},
     "output_type": "execute_result"
    }
   ],
   "source": [
    "len(reviews_pp_ints)"
   ]
  },
  {
   "cell_type": "code",
   "execution_count": 9,
   "metadata": {
    "collapsed": true
   },
   "outputs": [],
   "source": [
    "max_seq_len = 200\n",
    "features = np.zeros((len(reviews_pp_ints), max_seq_len), dtype=int)\n",
    "for i, row in enumerate(reviews_pp_ints):\n",
    "    features[i, :len(row)] = np.array(row[:max_seq_len] )"
   ]
  },
  {
   "cell_type": "code",
   "execution_count": 10,
   "metadata": {
    "collapsed": true
   },
   "outputs": [],
   "source": [
    "# 'features' is a 2d array storing all sequences"
   ]
  },
  {
   "cell_type": "markdown",
   "metadata": {},
   "source": [
    "## Train Test Validation split"
   ]
  },
  {
   "cell_type": "code",
   "execution_count": 11,
   "metadata": {
    "collapsed": true
   },
   "outputs": [],
   "source": [
    "split_frac = 0.8\n",
    "split_idx = int(len(features)*0.8)\n",
    "train_x, val_x = features[:split_idx], features[split_idx:]\n",
    "train_y, val_y = labels[:split_idx], labels[split_idx:]\n",
    "\n",
    "test_idx = int(len(val_x)*0.5)\n",
    "val_x, test_x = val_x[:test_idx], val_x[test_idx:]\n",
    "val_y, test_y = val_y[:test_idx], val_y[test_idx:]"
   ]
  },
  {
   "cell_type": "markdown",
   "metadata": {},
   "source": [
    "## Building Network"
   ]
  },
  {
   "cell_type": "code",
   "execution_count": 12,
   "metadata": {
    "collapsed": true
   },
   "outputs": [],
   "source": [
    "input_size = 200\n",
    "embed_size = 500\n",
    "lstm_size = 128\n",
    "lstm_layers = 1\n",
    "batch_size = 500\n",
    "\n",
    "X = tf.placeholder(tf.int32, [None, None], name = 'inputs')\n",
    "Y = tf.placeholder(tf.float32, [None, 1], name = 'labels')\n",
    "\n",
    "embedding = tf.Variable(tf.random_uniform((vocab_size+1, embed_size), -1, 1))\n",
    "embed = tf.nn.embedding_lookup(embedding, X)\n",
    "\n",
    "lstm = tf.contrib.rnn.BasicLSTMCell(lstm_size)\n",
    "cell = tf.contrib.rnn.MultiRNNCell([lstm]*lstm_layers)\n",
    "\n",
    "#getting an initial state of zeros\\n\",\n",
    "initial_state = cell.zero_state(batch_size, tf.float32)\n",
    "\n",
    "outputs, final_state = tf.nn.dynamic_rnn(cell, embed, initial_state = initial_state)\n",
    "\n",
    "predictions = tf.contrib.layers.fully_connected(outputs[:, -1], 1, activation_fn=tf.sigmoid)\n",
    "#predictions,Y\\n\",\n",
    "\n",
    "loss = tf.reduce_mean(tf.square(Y - predictions))\n",
    "optimizer = tf.train.AdamOptimizer(0.01).minimize(loss)"
   ]
  },
  {
   "cell_type": "code",
   "execution_count": 13,
   "metadata": {
    "collapsed": true
   },
   "outputs": [],
   "source": [
    "#Accuracy:\n",
    "correct_pred = tf.equal(tf.cast(tf.round(predictions), tf.float32), Y)\n",
    "accuracy = tf.reduce_mean(tf.cast(correct_pred, tf.float32))"
   ]
  },
  {
   "cell_type": "markdown",
   "metadata": {},
   "source": [
    "## Training"
   ]
  },
  {
   "cell_type": "code",
   "execution_count": 14,
   "metadata": {
    "collapsed": true
   },
   "outputs": [],
   "source": [
    "n_epochs = 10"
   ]
  },
  {
   "cell_type": "code",
   "execution_count": 17,
   "metadata": {
    "collapsed": true
   },
   "outputs": [],
   "source": [
    "def get_batches(x, y, batch_size=100):\n",
    "    \n",
    "    n_batches = len(x)//batch_size\n",
    "    x, y = x[:n_batches*batch_size], y[:n_batches*batch_size]\n",
    "    for ii in range(0, len(x), batch_size):\n",
    "        yield x[ii:ii+batch_size], y[ii:ii+batch_size]"
   ]
  },
  {
   "cell_type": "code",
   "execution_count": null,
   "metadata": {
    "scrolled": true
   },
   "outputs": [
    {
     "name": "stdout",
     "output_type": "stream",
     "text": [
      "Epoch: 0/10 Iteration: 5 Train loss: 0.267\n",
      "Epoch: 0/10 Iteration: 10 Train loss: 0.263\n",
      "Epoch: 0/10 Iteration: 15 Train loss: 0.252\n",
      "Epoch: 0/10 Iteration: 20 Train loss: 0.248\n",
      "Epoch: 0/10 Iteration: 25 Train loss: 0.250\n",
      "Val acc: 0.563\n",
      "Epoch: 0/10 Iteration: 30 Train loss: 0.242\n",
      "Epoch: 0/10 Iteration: 35 Train loss: 0.242\n",
      "Epoch: 0/10 Iteration: 40 Train loss: 0.228\n",
      "Epoch: 1/10 Iteration: 5 Train loss: 0.198\n",
      "Epoch: 1/10 Iteration: 10 Train loss: 0.165\n",
      "Epoch: 1/10 Iteration: 15 Train loss: 0.166\n",
      "Epoch: 1/10 Iteration: 20 Train loss: 0.168\n",
      "Epoch: 1/10 Iteration: 25 Train loss: 0.165\n",
      "Val acc: 0.784\n",
      "Epoch: 1/10 Iteration: 30 Train loss: 0.138\n",
      "Epoch: 1/10 Iteration: 35 Train loss: 0.130\n",
      "Epoch: 1/10 Iteration: 40 Train loss: 0.128\n",
      "Epoch: 2/10 Iteration: 5 Train loss: 0.099\n",
      "Epoch: 2/10 Iteration: 10 Train loss: 0.081\n",
      "Epoch: 2/10 Iteration: 15 Train loss: 0.098\n",
      "Epoch: 2/10 Iteration: 20 Train loss: 0.082\n",
      "Epoch: 2/10 Iteration: 25 Train loss: 0.091\n",
      "Val acc: 0.806\n",
      "Epoch: 2/10 Iteration: 30 Train loss: 0.079\n",
      "Epoch: 2/10 Iteration: 35 Train loss: 0.069\n",
      "Epoch: 2/10 Iteration: 40 Train loss: 0.072\n",
      "Epoch: 3/10 Iteration: 5 Train loss: 0.049\n",
      "Epoch: 3/10 Iteration: 10 Train loss: 0.039\n",
      "Epoch: 3/10 Iteration: 15 Train loss: 0.058\n",
      "Epoch: 3/10 Iteration: 20 Train loss: 0.053\n",
      "Epoch: 3/10 Iteration: 25 Train loss: 0.057\n",
      "Val acc: 0.793\n",
      "Epoch: 3/10 Iteration: 30 Train loss: 0.052\n",
      "Epoch: 3/10 Iteration: 35 Train loss: 0.042\n",
      "Epoch: 3/10 Iteration: 40 Train loss: 0.061\n",
      "Epoch: 4/10 Iteration: 5 Train loss: 0.066\n",
      "Epoch: 4/10 Iteration: 10 Train loss: 0.033\n",
      "Epoch: 4/10 Iteration: 15 Train loss: 0.041\n",
      "Epoch: 4/10 Iteration: 20 Train loss: 0.037\n",
      "Epoch: 4/10 Iteration: 25 Train loss: 0.043\n",
      "Val acc: 0.817\n",
      "Epoch: 4/10 Iteration: 30 Train loss: 0.041\n",
      "Epoch: 4/10 Iteration: 35 Train loss: 0.029\n",
      "Epoch: 4/10 Iteration: 40 Train loss: 0.024\n",
      "Epoch: 5/10 Iteration: 5 Train loss: 0.025\n",
      "Epoch: 5/10 Iteration: 10 Train loss: 0.020\n",
      "Epoch: 5/10 Iteration: 15 Train loss: 0.032\n",
      "Epoch: 5/10 Iteration: 20 Train loss: 0.029\n",
      "Epoch: 5/10 Iteration: 25 Train loss: 0.025\n",
      "Val acc: 0.815\n",
      "Epoch: 5/10 Iteration: 30 Train loss: 0.024\n",
      "Epoch: 5/10 Iteration: 35 Train loss: 0.012\n",
      "Epoch: 5/10 Iteration: 40 Train loss: 0.017\n",
      "Epoch: 6/10 Iteration: 5 Train loss: 0.015\n",
      "Epoch: 6/10 Iteration: 10 Train loss: 0.012\n",
      "Epoch: 6/10 Iteration: 15 Train loss: 0.020\n",
      "Epoch: 6/10 Iteration: 20 Train loss: 0.020\n",
      "Epoch: 6/10 Iteration: 25 Train loss: 0.018\n",
      "Val acc: 0.817\n",
      "Epoch: 6/10 Iteration: 30 Train loss: 0.019\n",
      "Epoch: 6/10 Iteration: 35 Train loss: 0.012\n",
      "Epoch: 6/10 Iteration: 40 Train loss: 0.011\n",
      "Epoch: 7/10 Iteration: 5 Train loss: 0.015\n",
      "Epoch: 7/10 Iteration: 10 Train loss: 0.009\n",
      "Epoch: 7/10 Iteration: 15 Train loss: 0.014\n",
      "Epoch: 7/10 Iteration: 20 Train loss: 0.018\n",
      "Epoch: 7/10 Iteration: 25 Train loss: 0.014\n",
      "Epoch: 7/10 Iteration: 30 Train loss: 0.017\n",
      "Epoch: 7/10 Iteration: 35 Train loss: 0.007\n",
      "Epoch: 7/10 Iteration: 40 Train loss: 0.015\n",
      "Epoch: 8/10 Iteration: 5 Train loss: 0.012\n",
      "Epoch: 8/10 Iteration: 10 Train loss: 0.009\n",
      "Epoch: 8/10 Iteration: 15 Train loss: 0.012\n",
      "Epoch: 8/10 Iteration: 20 Train loss: 0.016\n",
      "Epoch: 8/10 Iteration: 25 Train loss: 0.017\n",
      "Val acc: 0.816\n",
      "Epoch: 8/10 Iteration: 30 Train loss: 0.012\n",
      "Epoch: 8/10 Iteration: 35 Train loss: 0.007\n",
      "Epoch: 8/10 Iteration: 40 Train loss: 0.007\n",
      "Epoch: 9/10 Iteration: 5 Train loss: 0.019\n",
      "Epoch: 9/10 Iteration: 10 Train loss: 0.008\n",
      "Epoch: 9/10 Iteration: 15 Train loss: 0.020\n",
      "Epoch: 9/10 Iteration: 20 Train loss: 0.016\n",
      "Epoch: 9/10 Iteration: 25 Train loss: 0.012\n",
      "Val acc: 0.808\n",
      "Epoch: 9/10 Iteration: 30 Train loss: 0.011\n",
      "Epoch: 9/10 Iteration: 35 Train loss: 0.007\n",
      "Epoch: 9/10 Iteration: 40 Train loss: 0.006\n",
      "Training Completed\n"
     ]
    }
   ],
   "source": [
    "with tf.Session() as sess:\n",
    "    sess.run(tf.global_variables_initializer())\n",
    "    for e in range(n_epochs):\n",
    "        state = sess.run(initial_state)\n",
    "        iteration = 1\n",
    "        \n",
    "        for ii, (x, y) in enumerate(get_batches(train_x, train_y, batch_size), 1):\n",
    "            feed = {X: x, Y: y, initial_state: state}\n",
    "            \n",
    "            state, loss_,  _ = sess.run([final_state, loss, optimizer], feed_dict=feed)\n",
    "            \n",
    "            if iteration%5==0:\n",
    "                print(\"Epoch: {}/{}\".format(e, n_epochs),\n",
    "                      \"Iteration: {}\".format(iteration),\n",
    "                      \"Train loss: {:.3f}\".format(loss_))\n",
    "            \n",
    "            if iteration%25==0:\n",
    "                val_acc = []\n",
    "                val_state = sess.run(cell.zero_state(batch_size, tf.float32))\n",
    "                for x, y in get_batches(val_x, val_y, batch_size):\n",
    "                    feed = {X: x,\n",
    "                            Y: y,\n",
    "                            initial_state: val_state}\n",
    "                    batch_acc, val_state = sess.run([accuracy, final_state], feed_dict=feed)\n",
    "                    val_acc.append(batch_acc)\n",
    "                print(\"Val acc: {:.3f}\".format(np.mean(val_acc)))\n",
    "            \n",
    "            iteration +=1\n",
    "            \n",
    "print('Training Completed')"
   ]
  },
  {
   "cell_type": "markdown",
   "metadata": {},
   "source": [
    "## Testing"
   ]
  },
  {
   "cell_type": "code",
   "execution_count": null,
   "metadata": {
    "collapsed": true
   },
   "outputs": [],
   "source": [
    "test_acc = []\n",
    "\n",
    "test_state = sess.run(cell.zero_state(batch_size, tf.float32))\n",
    "for ii, (x, y) in enumerate(get_batches(test_x, test_y, batch_size), 1):\n",
    "    feed = {X: x,Y: y,initial_state: test_state}\n",
    "    \n",
    "    batch_acc, test_state = sess.run([accuracy, final_state], feed_dict=feed)\n",
    "    test_acc.append(batch_acc)\n",
    "    \n",
    "print(\"Test accuracy: {:.3f}\".format(np.mean(test_acc)))"
   ]
  },
  {
   "cell_type": "code",
   "execution_count": null,
   "metadata": {
    "collapsed": true
   },
   "outputs": [],
   "source": []
  }
 ],
 "metadata": {
  "kernelspec": {
   "display_name": "Python 3",
   "language": "python",
   "name": "python3"
  },
  "language_info": {
   "codemirror_mode": {
    "name": "ipython",
    "version": 3
   },
   "file_extension": ".py",
   "mimetype": "text/x-python",
   "name": "python",
   "nbconvert_exporter": "python",
   "pygments_lexer": "ipython3",
   "version": "3.6.0"
  }
 },
 "nbformat": 4,
 "nbformat_minor": 2
}
