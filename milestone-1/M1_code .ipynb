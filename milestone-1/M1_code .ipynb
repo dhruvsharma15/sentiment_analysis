{
 "cells": [
  {
   "cell_type": "markdown",
   "metadata": {
    "collapsed": true
   },
   "source": [
    "# SENTIMENT ANALYSIS USING ANY NETWORK AND ANY DATASET:\n",
    "\n",
    "DATASET - IMDB REVIEW DATASET\n",
    "\n",
    "Importing basic libraries"
   ]
  },
  {
   "cell_type": "markdown",
   "metadata": {},
   "source": [
    "Defining function to preprocess data to remove all the punctuations and remove words with 5 or fewer occurences from each review"
   ]
  },
  {
   "cell_type": "code",
   "execution_count": 2,
   "metadata": {
    "collapsed": true
   },
   "outputs": [],
   "source": [
    "import numpy as np\n",
    "import tensorflow as tf"
   ]
  },
  {
   "cell_type": "markdown",
   "metadata": {},
   "source": [
    "# Preprocessing dataset\n",
    "\n",
    "Importing dataset and preprocessing it. In preprocesing, we extract the words from each review and remove punctuations."
   ]
  },
  {
   "cell_type": "code",
   "execution_count": 3,
   "metadata": {
    "collapsed": true
   },
   "outputs": [],
   "source": [
    "import re\n",
    "from collections import Counter\n",
    "from nltk.corpus import stopwords\n",
    "\n",
    "def preprocess(text):\n",
    "    \n",
    "    # Replace punctuation with tokens so we can use them in our model\n",
    "    text = text.lower()\n",
    "    text = text.replace('.', ' <PERIOD> ')\n",
    "    text = text.replace(',', ' <PERIOD> ')\n",
    "    text = text.replace('\"', ' <PERIOD> ')\n",
    "    text = text.replace(';', ' <PERIOD> ')\n",
    "    text = text.replace('!', ' <PERIOD> ')\n",
    "    text = text.replace('?', ' <PERIOD> ')\n",
    "    text = text.replace('(', ' <PERIOD> ')\n",
    "    text = text.replace(')', ' <PERIOD> ')\n",
    "    text = text.replace('--', ' <PERIOD> ')\n",
    "    text = text.replace('?', ' <PERIOD> ')\n",
    "    text = text.replace('<br />', ' <PERIOD> ')\n",
    "    text = text.replace('\\\\', ' <PERIOD> ')\n",
    "    # text = text.replace('\\n', ' <NEW_LINE> ')\n",
    "    text = text.replace(':', ' <PERIOD> ')\n",
    "    text = text.replace(' <PERIOD> ', ' ')\n",
    "    words = text.split()\n",
    "    \n",
    "    return words\n",
    "\n",
    "def removing_noise(words):\n",
    "    word_count = Counter(words)\n",
    "    #stops = set(stopwords.words(\"english\"))\n",
    "    words_new = [word for word in words if (word_count[word]>5) #and (not word in stops)\n",
    "                ]\n",
    "    return words_new\n",
    "    \n",
    "    "
   ]
  },
  {
   "cell_type": "code",
   "execution_count": 4,
   "metadata": {
    "collapsed": true
   },
   "outputs": [],
   "source": [
    "import csv\n",
    "\n",
    "filename = 'data/labeledTrainData.tsv'\n",
    "review_ids = []\n",
    "reviews = []\n",
    "labels = []\n",
    "#importing dataset into lists\n",
    "with open(filename, 'r') as f:\n",
    "    next(f)\n",
    "    reader = csv.reader(f, delimiter='\\t')\n",
    "    \n",
    "    for row in reader:\n",
    "        review_ids.append(row[0])\n",
    "        labels.append([int(row[1])] )\n",
    "        reviews.append(row[2])"
   ]
  },
  {
   "cell_type": "code",
   "execution_count": 5,
   "metadata": {},
   "outputs": [
    {
     "data": {
      "text/plain": [
       "25000"
      ]
     },
     "execution_count": 5,
     "metadata": {},
     "output_type": "execute_result"
    }
   ],
   "source": [
    "len(reviews)"
   ]
  },
  {
   "cell_type": "code",
   "execution_count": 5,
   "metadata": {},
   "outputs": [
    {
     "data": {
      "text/plain": [
       "\"With all this stuff going down at the moment with MJ i've started listening to his music, watching the odd documentary here and there, watched The Wiz and watched Moonwalker again. Maybe i just want to get a certain insight into this guy who i thought was really cool in the eighties just to maybe make up my mind whether he is guilty or innocent. Moonwalker is part biography, part feature film which i remember going to see at the cinema when it was originally released. Some of it has subtle messages about MJ's feeling towards the press and also the obvious message of drugs are bad m'kay.<br /><br />Visually impressive but of course this is all about Michael Jackson so unless you remotely like MJ in anyway then you are going to hate this and find it boring. Some may call MJ an egotist for consenting to the making of this movie BUT MJ and most of his fans would say that he made it for the fans which if true is really nice of him.<br /><br />The actual feature film bit when it finally starts is only on for 20 minutes or so excluding the Smooth Criminal sequence and Joe Pesci is convincing as a psychopathic all powerful drug lord. Why he wants MJ dead so bad is beyond me. Because MJ overheard his plans? Nah, Joe Pesci's character ranted that he wanted people to know it is he who is supplying drugs etc so i dunno, maybe he just hates MJ's music.<br /><br />Lots of cool things in this like MJ turning into a car and a robot and the whole Speed Demon sequence. Also, the director must have had the patience of a saint when it came to filming the kiddy Bad sequence as usually directors hate working with one kid let alone a whole bunch of them performing a complex dance scene.<br /><br />Bottom line, this movie is for people who like MJ on one level or another (which i think is most people). If not, then stay away. It does try and give off a wholesome message and ironically MJ's bestest buddy in this movie is a girl! Michael Jackson is truly one of the most talented people ever to grace this planet but is he guilty? Well, with all the attention i've gave this subject....hmmm well i don't know because people can be different behind closed doors, i know this for a fact. He is either an extremely nice but stupid guy or one of the most sickest liars. I hope he is not the latter.\""
      ]
     },
     "execution_count": 5,
     "metadata": {},
     "output_type": "execute_result"
    }
   ],
   "source": [
    "reviews[0]"
   ]
  },
  {
   "cell_type": "code",
   "execution_count": 6,
   "metadata": {},
   "outputs": [
    {
     "data": {
      "text/plain": [
       "[[1], [1], [0], [0], [1], [1], [0], [0], [0], [1]]"
      ]
     },
     "execution_count": 6,
     "metadata": {},
     "output_type": "execute_result"
    }
   ],
   "source": [
    "labels[:10]"
   ]
  },
  {
   "cell_type": "code",
   "execution_count": 6,
   "metadata": {
    "collapsed": true
   },
   "outputs": [],
   "source": [
    "reviews_pp = []\n",
    "words = []\n",
    "\n",
    "for review in reviews:\n",
    "    review_pp = preprocess(review)\n",
    "    reviews_pp.append(review_pp)\n",
    "    words.extend(review_pp)\n",
    "    \n",
    "words = removing_noise(words)"
   ]
  },
  {
   "cell_type": "markdown",
   "metadata": {
    "collapsed": true
   },
   "source": [
    "## Encoding the words to generate a map for word to integer mapping\n",
    "\n",
    "Generating a map to convert each word to an integer. The integer assigned to a word is decided by the no. of times it occurs. Higher the occurences, lower is the integer assigned.\n",
    "After that, each review is converted in the form of integers to feed them well in the network."
   ]
  },
  {
   "cell_type": "code",
   "execution_count": 7,
   "metadata": {
    "collapsed": true
   },
   "outputs": [],
   "source": [
    "#Converting word to integers and making the vocabulary\n",
    "vocab = set(words)\n",
    "vocab_size = len(vocab)\n",
    "words_count = Counter(words)\n",
    "sorted_vocab = sorted(words_count, key = words_count.get, reverse = True)\n",
    "word_to_int = {word:i for i,word in enumerate(sorted_vocab)}\n",
    "\n",
    "#Converting each review in the form of integers\n",
    "reviews_pp_ints = []\n",
    "for review in reviews_pp:\n",
    "    this_review_int = []\n",
    "    for word in review:\n",
    "        if word in vocab:\n",
    "            this_review_int.append(word_to_int[word])\n",
    "    reviews_pp_ints.append(this_review_int)"
   ]
  },
  {
   "cell_type": "code",
   "execution_count": 8,
   "metadata": {},
   "outputs": [
    {
     "data": {
      "text/plain": [
       "[6278,\n",
       " 1437,\n",
       " 5,\n",
       " 26,\n",
       " 3,\n",
       " 0,\n",
       " 113,\n",
       " 1,\n",
       " 87,\n",
       " 1160,\n",
       " 1114,\n",
       " 1301,\n",
       " 99,\n",
       " 3,\n",
       " 0,\n",
       " 1709,\n",
       " 1,\n",
       " 124,\n",
       " 50,\n",
       " 16199,\n",
       " 51,\n",
       " 29,\n",
       " 1857,\n",
       " 1494,\n",
       " 254,\n",
       " 2988,\n",
       " 1,\n",
       " 2,\n",
       " 111,\n",
       " 1918,\n",
       " 0,\n",
       " 11273,\n",
       " 1208,\n",
       " 1,\n",
       " 0,\n",
       " 10489,\n",
       " 838,\n",
       " 773,\n",
       " 13,\n",
       " 10,\n",
       " 56,\n",
       " 124,\n",
       " 235,\n",
       " 50,\n",
       " 4227,\n",
       " 1,\n",
       " 5460,\n",
       " 9,\n",
       " 576,\n",
       " 9376,\n",
       " 0,\n",
       " 2089,\n",
       " 3,\n",
       " 2368,\n",
       " 6607,\n",
       " 1526,\n",
       " 82,\n",
       " 3,\n",
       " 89,\n",
       " 555,\n",
       " 172,\n",
       " 1,\n",
       " 44,\n",
       " 1540,\n",
       " 825,\n",
       " 10,\n",
       " 8,\n",
       " 1229,\n",
       " 1097,\n",
       " 349,\n",
       " 0,\n",
       " 157,\n",
       " 762,\n",
       " 3,\n",
       " 16924,\n",
       " 5,\n",
       " 2,\n",
       " 2201,\n",
       " 266,\n",
       " 4,\n",
       " 25,\n",
       " 1202,\n",
       " 14,\n",
       " 16925,\n",
       " 30,\n",
       " 14379,\n",
       " 8842,\n",
       " 1,\n",
       " 0,\n",
       " 931,\n",
       " 3,\n",
       " 168,\n",
       " 5584,\n",
       " 1659,\n",
       " 2171,\n",
       " 0,\n",
       " 59,\n",
       " 789,\n",
       " 3,\n",
       " 1659,\n",
       " 1389,\n",
       " 5,\n",
       " 18674,\n",
       " 1,\n",
       " 7709,\n",
       " 29,\n",
       " 0,\n",
       " 6278,\n",
       " 1138,\n",
       " 5764,\n",
       " 3557,\n",
       " 6,\n",
       " 2,\n",
       " 83,\n",
       " 3093,\n",
       " 291,\n",
       " 2,\n",
       " 1036,\n",
       " 5641,\n",
       " 0,\n",
       " 581,\n",
       " 3,\n",
       " 26,\n",
       " 3,\n",
       " 87,\n",
       " 19740,\n",
       " 7104,\n",
       " 1,\n",
       " 24,\n",
       " 5765,\n",
       " 717,\n",
       " 18675,\n",
       " 1,\n",
       " 462,\n",
       " 3841,\n",
       " 0,\n",
       " 225,\n",
       " 5,\n",
       " 2,\n",
       " 111,\n",
       " 28,\n",
       " 204,\n",
       " 1,\n",
       " 0,\n",
       " 1326,\n",
       " 148,\n",
       " 60,\n",
       " 209,\n",
       " 12,\n",
       " 2,\n",
       " 199,\n",
       " 846,\n",
       " 124,\n",
       " 0,\n",
       " 818,\n",
       " 5,\n",
       " 50,\n",
       " 3028,\n",
       " 1,\n",
       " 7105,\n",
       " 0,\n",
       " 5,\n",
       " 357,\n",
       " 16926,\n",
       " 1,\n",
       " 688,\n",
       " 26,\n",
       " 3,\n",
       " 0,\n",
       " 87,\n",
       " 6279,\n",
       " 373,\n",
       " 6,\n",
       " 1709,\n",
       " 434,\n",
       " 2421,\n",
       " 1583,\n",
       " 4621,\n",
       " 5,\n",
       " 1083,\n",
       " 1129,\n",
       " 6,\n",
       " 22,\n",
       " 228,\n",
       " 211,\n",
       " 1,\n",
       " 217,\n",
       " 2,\n",
       " 83,\n",
       " 16,\n",
       " 96,\n",
       " 6120,\n",
       " 8678,\n",
       " 211,\n",
       " 13,\n",
       " 2241,\n",
       " 11551,\n",
       " 7836,\n",
       " 538,\n",
       " 0,\n",
       " 9813,\n",
       " 867,\n",
       " 25783,\n",
       " 9,\n",
       " 5,\n",
       " 9601,\n",
       " 6,\n",
       " 53,\n",
       " 269,\n",
       " 2,\n",
       " 7615,\n",
       " 1,\n",
       " 3382,\n",
       " 5976,\n",
       " 13,\n",
       " 1890,\n",
       " 54,\n",
       " 3765,\n",
       " 14,\n",
       " 8679,\n",
       " 1907,\n",
       " 6442,\n",
       " 256,\n",
       " 1191]"
      ]
     },
     "execution_count": 8,
     "metadata": {},
     "output_type": "execute_result"
    }
   ],
   "source": [
    "reviews_pp_ints[20]"
   ]
  },
  {
   "cell_type": "code",
   "execution_count": 9,
   "metadata": {},
   "outputs": [
    {
     "data": {
      "text/plain": [
       "(10, 2354)"
      ]
     },
     "execution_count": 9,
     "metadata": {},
     "output_type": "execute_result"
    }
   ],
   "source": [
    "max_l = 0\n",
    "min_l = 10000\n",
    "for review in reviews_pp_ints:\n",
    "    if len(review) > max_l:\n",
    "        max_l = len(review)\n",
    "    if len(review) < min_l:\n",
    "        min_l = len(review)\n",
    "\n",
    "min_l, max_l"
   ]
  },
  {
   "cell_type": "markdown",
   "metadata": {
    "collapsed": true
   },
   "source": [
    "## Function to make the input layer for the review passed as the argument\n",
    "\n",
    "This function generates a vector of length same as the vocabulary. Each index corresponds to the equivalent word. The value at that index corresponds to the frequency of that word in the review."
   ]
  },
  {
   "cell_type": "code",
   "execution_count": 20,
   "metadata": {
    "collapsed": true
   },
   "outputs": [],
   "source": [
    "def generate_input_layer(review_int):\n",
    "    input_layer = np.zeros(( vocab_size))\n",
    "    for word in review_int:\n",
    "        input_layer[word] += 1\n",
    "        \n",
    "    return input_layer"
   ]
  },
  {
   "cell_type": "markdown",
   "metadata": {},
   "source": [
    "## Splitting dataset into training, validation and testing dataset\n",
    "\n",
    "The dataset is split into the three categories. The split fraction of training is 0.8 and validation, testing set equally from the remaining dataset."
   ]
  },
  {
   "cell_type": "code",
   "execution_count": 21,
   "metadata": {
    "collapsed": true
   },
   "outputs": [],
   "source": [
    "split_frac = 0.8\n",
    "split_index = int(len(reviews_pp_ints)*split_frac)\n",
    "\n",
    "train_x, val_x = reviews_pp_ints[:split_index], reviews_pp_ints[split_index:]\n",
    "train_y, val_y = labels[:split_index], labels[split_index:]\n",
    "\n",
    "test_index = int(len(val_x)*0.5)\n",
    "val_x, test_x = val_x[:test_index], val_x[test_index:]\n",
    "val_y, test_y = val_y[:test_index], val_y[test_index:]\n",
    "\n"
   ]
  },
  {
   "cell_type": "code",
   "execution_count": 18,
   "metadata": {},
   "outputs": [
    {
     "data": {
      "text/plain": [
       "array([ 19.,  10.,  10., ...,   0.,   0.,   0.])"
      ]
     },
     "execution_count": 18,
     "metadata": {},
     "output_type": "execute_result"
    }
   ],
   "source": [
    "inp = [generate_input_layer(i) for i in train_x]\n",
    "inp[0]"
   ]
  },
  {
   "cell_type": "code",
   "execution_count": 19,
   "metadata": {},
   "outputs": [
    {
     "data": {
      "text/plain": [
       "(28260,)"
      ]
     },
     "execution_count": 19,
     "metadata": {},
     "output_type": "execute_result"
    }
   ],
   "source": [
    "inp[0].shape"
   ]
  },
  {
   "cell_type": "code",
   "execution_count": 32,
   "metadata": {
    "collapsed": true
   },
   "outputs": [],
   "source": [
    "#Hyperparameters\n",
    "input_dim = vocab_size\n",
    "hidden_dim_1 = 300\n",
    "hidden_dim_2 = 200\n",
    "output_dim = 1 \n",
    "\n",
    "\n",
    "#Network Architecture\n",
    "X = tf.placeholder(tf.float32, [None, input_dim])\n",
    "Y = tf.placeholder(tf.float32, [None, 1])\n",
    "\n",
    "tf.set_random_seed(5)\n",
    "weights_0_1 = tf.Variable( tf.truncated_normal([input_dim, hidden_dim_1], stddev = 0.1) )\n",
    "bias_0_1 = tf.Variable( tf.zeros(hidden_dim_1))\n",
    "weights_1_2 = tf.Variable( tf.truncated_normal([hidden_dim_1, output_dim], stddev = 0.1) ) \n",
    "bias_1_2 = tf.Variable(tf.zeros(output_dim))\n",
    "#weights_2_3 = tf.Variable( tf.truncated_normal([hidden_dim_2, output_dim], stddev = 0.1) )\n",
    "#bias_2_3 = tf.Variable(tf.zeros(output_dim))\n",
    "\n",
    "layer_1 = tf.nn.relu(tf.add(tf.matmul(X, weights_0_1), bias_0_1))\n",
    "layer_2 = tf.sigmoid( tf.add(tf.matmul(layer_1, weights_1_2), bias_1_2 ))\n",
    "#layer_3 = tf.sigmoid(tf.add(tf.matmul(layer_2, weights_2_3), bias_2_3))\n",
    "\n",
    "loss = tf.reduce_mean(tf.square(Y - layer_2))\n",
    "minimise = tf.train.AdamOptimizer(0.01).minimize(loss)\n"
   ]
  },
  {
   "cell_type": "code",
   "execution_count": 33,
   "metadata": {},
   "outputs": [
    {
     "name": "stdout",
     "output_type": "stream",
     "text": [
      "Epoch=0  Loss=0.29273682832717896 \n",
      "Epoch=0  Loss=0.10419298708438873 \n",
      "Epoch=1  Loss=0.01050470769405365 \n",
      "Epoch=1  Loss=0.02367044985294342 \n",
      "Epoch=2  Loss=0.00276096910238266 \n",
      "Epoch=2  Loss=0.006804957985877991 \n",
      "Epoch=3  Loss=0.0011871934402734041 \n",
      "Epoch=3  Loss=0.0041468702256679535 \n",
      "Epoch=4  Loss=4.2644016502890736e-05 \n",
      "Epoch=4  Loss=0.0021637319587171078 \n",
      "Epoch=5  Loss=1.8886674297391437e-05 \n",
      "Epoch=5  Loss=0.0020790284033864737 \n",
      "Epoch=6  Loss=1.762185820552986e-05 \n",
      "Epoch=6  Loss=0.002045560162514448 \n",
      "Epoch=7  Loss=1.2842588148487266e-05 \n",
      "Epoch=7  Loss=0.002033216878771782 \n",
      "Epoch=8  Loss=9.094972483580932e-06 \n",
      "Epoch=8  Loss=0.0020375631283968687 \n",
      "Epoch=9  Loss=8.683432497491594e-06 \n",
      "Epoch=9  Loss=0.0020246501080691814 \n"
     ]
    }
   ],
   "source": [
    "#Training \n",
    "sess = tf.Session()\n",
    "sess.run(tf.global_variables_initializer())\n",
    "\n",
    "n_epoch = 10\n",
    "batch_size = 500\n",
    "n_batch = len(train_x)/batch_size\n",
    "#print(n_batch)\n",
    "for epoch in range(n_epoch):\n",
    "    start=0\n",
    "    for batch in range(int(n_batch)):\n",
    "        inp,out = train_x[start:start+batch_size], train_y[start:start+batch_size] \n",
    "        inp = [generate_input_layer(i) for i in inp] \n",
    "        \n",
    "        _, loss_ = sess.run([minimise, loss],feed_dict={X:inp , Y: out})\n",
    "        #print(len(out))\n",
    "        start += batch_size\n",
    "        #print(start)\n",
    "        if batch%20 == 0:\n",
    "            print ('Epoch={}  Loss={} '.format(epoch, loss_))\n"
   ]
  },
  {
   "cell_type": "code",
   "execution_count": 34,
   "metadata": {},
   "outputs": [
    {
     "name": "stdout",
     "output_type": "stream",
     "text": [
      "accuracy: 89.12\n"
     ]
    }
   ],
   "source": [
    "#Testing\n",
    "def prediction(inp):\n",
    "    inp = [generate_input_layer(inp)]     \n",
    "    sigmoid_output = sess.run([layer_2],feed_dict={X:inp , Y: out})[0][0]\n",
    "    return int(sigmoid_output>=0.5)        \n",
    "\n",
    "accuracy_batch = []\n",
    "for datapoint_index in range(len(test_x)):\n",
    "    result = prediction(test_x[datapoint_index])\n",
    "    if result == test_y[datapoint_index][0]:\n",
    "        accuracy_batch.append(1)\n",
    "    else:\n",
    "        accuracy_batch.append(0)\n",
    "\n",
    "print ('accuracy: {}'.format(sum(accuracy_batch)*100.0/len(accuracy_batch)  ))"
   ]
  },
  {
   "cell_type": "code",
   "execution_count": null,
   "metadata": {
    "collapsed": true
   },
   "outputs": [],
   "source": []
  }
 ],
 "metadata": {
  "kernelspec": {
   "display_name": "Python 3",
   "language": "python",
   "name": "python3"
  },
  "language_info": {
   "codemirror_mode": {
    "name": "ipython",
    "version": 3
   },
   "file_extension": ".py",
   "mimetype": "text/x-python",
   "name": "python",
   "nbconvert_exporter": "python",
   "pygments_lexer": "ipython3",
   "version": "3.6.0"
  }
 },
 "nbformat": 4,
 "nbformat_minor": 2
}
